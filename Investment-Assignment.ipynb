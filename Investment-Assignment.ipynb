{
 "cells": [
  {
   "cell_type": "markdown",
   "id": "tight-friend",
   "metadata": {},
   "source": [
    "# Spark Funds Investment Strategy\n",
    "\n",
    "Spark Funds, an asset management company wants to make investments in English speaking countries with an amount between 5 to 15 million USD per round of investment.\n",
    "\n",
    "***\n",
    "\n",
    "#### Business objective: \n",
    "\n",
    "The objective of the analysis will be to identify the best sectors, countries, and a suitable funding type to have insights for Spark Funds to make investments. The overall strategy for Spark Funds is to find out and invest where others are investing, implying that the 'best' sectors and countries are the ones 'where most investors are investing'.\n",
    "\n",
    "The Goal of the Analysis is to identify the suitable investment funding type in the top 3 main sectors in each of the top 3 English speaking countries based on the dataset provided (Sourced from crunchbase.com)"
   ]
  },
  {
   "cell_type": "markdown",
   "id": "binding-trademark",
   "metadata": {},
   "source": [
    "#### Importing the Libraries"
   ]
  },
  {
   "cell_type": "code",
   "execution_count": 1,
   "id": "liked-castle",
   "metadata": {
    "collapsed": true
   },
   "outputs": [],
   "source": [
    "# All libraries are imported in this cell\n",
    "import numpy as np\n",
    "import pandas as pd\n",
    "import matplotlib.pyplot as plt\n",
    "import seaborn as sns\n",
    "import warnings\n",
    "import datetime \n",
    "import pytz\n",
    "warnings.filterwarnings('ignore')\n",
    "from pprint import pprint \n",
    "%matplotlib inline"
   ]
  },
  {
   "cell_type": "markdown",
   "id": "sized-oregon",
   "metadata": {},
   "source": [
    "#### Importing the datasets\n",
    "***\n",
    "- Using encoding to handle special characters"
   ]
  },
  {
   "cell_type": "code",
   "execution_count": 2,
   "id": "welcome-turkish",
   "metadata": {
    "collapsed": true
   },
   "outputs": [],
   "source": [
    "companies = pd.read_csv('companies.csv',encoding='ISO-8859-1')\n",
    "rounds2 = pd.read_csv('rounds2.csv',encoding='ISO-8859-1')\n",
    "mappings = pd.read_csv('mapping.csv',encoding='ISO-8859-1')"
   ]
  },
  {
   "cell_type": "markdown",
   "id": "scientific-found",
   "metadata": {},
   "source": [
    "#### Understanding the Data"
   ]
  },
  {
   "cell_type": "markdown",
   "id": "advanced-andrew",
   "metadata": {},
   "source": [
    "1. **companies**  - The dataset consists of list companies with thier details such name, website, country and sector in which they opeate"
   ]
  },
  {
   "cell_type": "code",
   "execution_count": 3,
   "id": "middle-petersburg",
   "metadata": {},
   "outputs": [
    {
     "data": {
      "text/html": [
       "<div>\n",
       "<style scoped>\n",
       "    .dataframe tbody tr th:only-of-type {\n",
       "        vertical-align: middle;\n",
       "    }\n",
       "\n",
       "    .dataframe tbody tr th {\n",
       "        vertical-align: top;\n",
       "    }\n",
       "\n",
       "    .dataframe thead th {\n",
       "        text-align: right;\n",
       "    }\n",
       "</style>\n",
       "<table border=\"1\" class=\"dataframe\">\n",
       "  <thead>\n",
       "    <tr style=\"text-align: right;\">\n",
       "      <th></th>\n",
       "      <th>permalink</th>\n",
       "      <th>name</th>\n",
       "      <th>homepage_url</th>\n",
       "      <th>category_list</th>\n",
       "      <th>status</th>\n",
       "      <th>country_code</th>\n",
       "      <th>state_code</th>\n",
       "      <th>region</th>\n",
       "      <th>city</th>\n",
       "      <th>founded_at</th>\n",
       "    </tr>\n",
       "  </thead>\n",
       "  <tbody>\n",
       "    <tr>\n",
       "      <th>0</th>\n",
       "      <td>/Organization/-Fame</td>\n",
       "      <td>#fame</td>\n",
       "      <td>http://livfame.com</td>\n",
       "      <td>Media</td>\n",
       "      <td>operating</td>\n",
       "      <td>IND</td>\n",
       "      <td>16</td>\n",
       "      <td>Mumbai</td>\n",
       "      <td>Mumbai</td>\n",
       "      <td>NaN</td>\n",
       "    </tr>\n",
       "    <tr>\n",
       "      <th>1</th>\n",
       "      <td>/Organization/-Qounter</td>\n",
       "      <td>:Qounter</td>\n",
       "      <td>http://www.qounter.com</td>\n",
       "      <td>Application Platforms|Real Time|Social Network...</td>\n",
       "      <td>operating</td>\n",
       "      <td>USA</td>\n",
       "      <td>DE</td>\n",
       "      <td>DE - Other</td>\n",
       "      <td>Delaware City</td>\n",
       "      <td>04-09-2014</td>\n",
       "    </tr>\n",
       "    <tr>\n",
       "      <th>2</th>\n",
       "      <td>/Organization/-The-One-Of-Them-Inc-</td>\n",
       "      <td>(THE) ONE of THEM,Inc.</td>\n",
       "      <td>http://oneofthem.jp</td>\n",
       "      <td>Apps|Games|Mobile</td>\n",
       "      <td>operating</td>\n",
       "      <td>NaN</td>\n",
       "      <td>NaN</td>\n",
       "      <td>NaN</td>\n",
       "      <td>NaN</td>\n",
       "      <td>NaN</td>\n",
       "    </tr>\n",
       "    <tr>\n",
       "      <th>3</th>\n",
       "      <td>/Organization/0-6-Com</td>\n",
       "      <td>0-6.com</td>\n",
       "      <td>http://www.0-6.com</td>\n",
       "      <td>Curated Web</td>\n",
       "      <td>operating</td>\n",
       "      <td>CHN</td>\n",
       "      <td>22</td>\n",
       "      <td>Beijing</td>\n",
       "      <td>Beijing</td>\n",
       "      <td>01-01-2007</td>\n",
       "    </tr>\n",
       "    <tr>\n",
       "      <th>4</th>\n",
       "      <td>/Organization/004-Technologies</td>\n",
       "      <td>004 Technologies</td>\n",
       "      <td>http://004gmbh.de/en/004-interact</td>\n",
       "      <td>Software</td>\n",
       "      <td>operating</td>\n",
       "      <td>USA</td>\n",
       "      <td>IL</td>\n",
       "      <td>Springfield, Illinois</td>\n",
       "      <td>Champaign</td>\n",
       "      <td>01-01-2010</td>\n",
       "    </tr>\n",
       "  </tbody>\n",
       "</table>\n",
       "</div>"
      ],
      "text/plain": [
       "                             permalink                    name  \\\n",
       "0                  /Organization/-Fame                   #fame   \n",
       "1               /Organization/-Qounter                :Qounter   \n",
       "2  /Organization/-The-One-Of-Them-Inc-  (THE) ONE of THEM,Inc.   \n",
       "3                /Organization/0-6-Com                 0-6.com   \n",
       "4       /Organization/004-Technologies        004 Technologies   \n",
       "\n",
       "                        homepage_url  \\\n",
       "0                 http://livfame.com   \n",
       "1             http://www.qounter.com   \n",
       "2                http://oneofthem.jp   \n",
       "3                 http://www.0-6.com   \n",
       "4  http://004gmbh.de/en/004-interact   \n",
       "\n",
       "                                       category_list     status country_code  \\\n",
       "0                                              Media  operating          IND   \n",
       "1  Application Platforms|Real Time|Social Network...  operating          USA   \n",
       "2                                  Apps|Games|Mobile  operating          NaN   \n",
       "3                                        Curated Web  operating          CHN   \n",
       "4                                           Software  operating          USA   \n",
       "\n",
       "  state_code                 region           city  founded_at  \n",
       "0         16                 Mumbai         Mumbai         NaN  \n",
       "1         DE             DE - Other  Delaware City  04-09-2014  \n",
       "2        NaN                    NaN            NaN         NaN  \n",
       "3         22                Beijing        Beijing  01-01-2007  \n",
       "4         IL  Springfield, Illinois      Champaign  01-01-2010  "
      ]
     },
     "execution_count": 3,
     "metadata": {},
     "output_type": "execute_result"
    }
   ],
   "source": [
    "companies.head()"
   ]
  },
  {
   "cell_type": "markdown",
   "id": "minor-criticism",
   "metadata": {},
   "source": [
    "2. **rounds2** - The dataset contains the details such as name, funding type and the amount raised in USD. "
   ]
  },
  {
   "cell_type": "code",
   "execution_count": 4,
   "id": "handy-shape",
   "metadata": {
    "collapsed": true
   },
   "outputs": [
    {
     "data": {
      "text/html": [
       "<div>\n",
       "<style scoped>\n",
       "    .dataframe tbody tr th:only-of-type {\n",
       "        vertical-align: middle;\n",
       "    }\n",
       "\n",
       "    .dataframe tbody tr th {\n",
       "        vertical-align: top;\n",
       "    }\n",
       "\n",
       "    .dataframe thead th {\n",
       "        text-align: right;\n",
       "    }\n",
       "</style>\n",
       "<table border=\"1\" class=\"dataframe\">\n",
       "  <thead>\n",
       "    <tr style=\"text-align: right;\">\n",
       "      <th></th>\n",
       "      <th>company_permalink</th>\n",
       "      <th>funding_round_permalink</th>\n",
       "      <th>funding_round_type</th>\n",
       "      <th>funding_round_code</th>\n",
       "      <th>funded_at</th>\n",
       "      <th>raised_amount_usd</th>\n",
       "    </tr>\n",
       "  </thead>\n",
       "  <tbody>\n",
       "    <tr>\n",
       "      <th>0</th>\n",
       "      <td>/organization/-fame</td>\n",
       "      <td>/funding-round/9a01d05418af9f794eebff7ace91f638</td>\n",
       "      <td>venture</td>\n",
       "      <td>B</td>\n",
       "      <td>05-01-2015</td>\n",
       "      <td>10000000.0</td>\n",
       "    </tr>\n",
       "    <tr>\n",
       "      <th>1</th>\n",
       "      <td>/ORGANIZATION/-QOUNTER</td>\n",
       "      <td>/funding-round/22dacff496eb7acb2b901dec1dfe5633</td>\n",
       "      <td>venture</td>\n",
       "      <td>A</td>\n",
       "      <td>14-10-2014</td>\n",
       "      <td>NaN</td>\n",
       "    </tr>\n",
       "    <tr>\n",
       "      <th>2</th>\n",
       "      <td>/organization/-qounter</td>\n",
       "      <td>/funding-round/b44fbb94153f6cdef13083530bb48030</td>\n",
       "      <td>seed</td>\n",
       "      <td>NaN</td>\n",
       "      <td>01-03-2014</td>\n",
       "      <td>700000.0</td>\n",
       "    </tr>\n",
       "    <tr>\n",
       "      <th>3</th>\n",
       "      <td>/ORGANIZATION/-THE-ONE-OF-THEM-INC-</td>\n",
       "      <td>/funding-round/650b8f704416801069bb178a1418776b</td>\n",
       "      <td>venture</td>\n",
       "      <td>B</td>\n",
       "      <td>30-01-2014</td>\n",
       "      <td>3406878.0</td>\n",
       "    </tr>\n",
       "    <tr>\n",
       "      <th>4</th>\n",
       "      <td>/organization/0-6-com</td>\n",
       "      <td>/funding-round/5727accaeaa57461bd22a9bdd945382d</td>\n",
       "      <td>venture</td>\n",
       "      <td>A</td>\n",
       "      <td>19-03-2008</td>\n",
       "      <td>2000000.0</td>\n",
       "    </tr>\n",
       "  </tbody>\n",
       "</table>\n",
       "</div>"
      ],
      "text/plain": [
       "                     company_permalink  \\\n",
       "0                  /organization/-fame   \n",
       "1               /ORGANIZATION/-QOUNTER   \n",
       "2               /organization/-qounter   \n",
       "3  /ORGANIZATION/-THE-ONE-OF-THEM-INC-   \n",
       "4                /organization/0-6-com   \n",
       "\n",
       "                           funding_round_permalink funding_round_type  \\\n",
       "0  /funding-round/9a01d05418af9f794eebff7ace91f638            venture   \n",
       "1  /funding-round/22dacff496eb7acb2b901dec1dfe5633            venture   \n",
       "2  /funding-round/b44fbb94153f6cdef13083530bb48030               seed   \n",
       "3  /funding-round/650b8f704416801069bb178a1418776b            venture   \n",
       "4  /funding-round/5727accaeaa57461bd22a9bdd945382d            venture   \n",
       "\n",
       "  funding_round_code   funded_at  raised_amount_usd  \n",
       "0                  B  05-01-2015         10000000.0  \n",
       "1                  A  14-10-2014                NaN  \n",
       "2                NaN  01-03-2014           700000.0  \n",
       "3                  B  30-01-2014          3406878.0  \n",
       "4                  A  19-03-2008          2000000.0  "
      ]
     },
     "execution_count": 4,
     "metadata": {},
     "output_type": "execute_result"
    }
   ],
   "source": [
    "rounds2.head()"
   ]
  },
  {
   "cell_type": "markdown",
   "id": "finite-channels",
   "metadata": {},
   "source": [
    "3. **mappings** - The mapping dataset contains the mapping of various sub-sectors to main_sectors."
   ]
  },
  {
   "cell_type": "code",
   "execution_count": 5,
   "id": "fantastic-journalist",
   "metadata": {
    "collapsed": true
   },
   "outputs": [
    {
     "data": {
      "text/html": [
       "<div>\n",
       "<style scoped>\n",
       "    .dataframe tbody tr th:only-of-type {\n",
       "        vertical-align: middle;\n",
       "    }\n",
       "\n",
       "    .dataframe tbody tr th {\n",
       "        vertical-align: top;\n",
       "    }\n",
       "\n",
       "    .dataframe thead th {\n",
       "        text-align: right;\n",
       "    }\n",
       "</style>\n",
       "<table border=\"1\" class=\"dataframe\">\n",
       "  <thead>\n",
       "    <tr style=\"text-align: right;\">\n",
       "      <th></th>\n",
       "      <th>category_list</th>\n",
       "      <th>Automotive &amp; Sports</th>\n",
       "      <th>Blanks</th>\n",
       "      <th>Cleantech / Semiconductors</th>\n",
       "      <th>Entertainment</th>\n",
       "      <th>Health</th>\n",
       "      <th>Manufacturing</th>\n",
       "      <th>News, Search and Messaging</th>\n",
       "      <th>Others</th>\n",
       "      <th>Social, Finance, Analytics, Advertising</th>\n",
       "    </tr>\n",
       "  </thead>\n",
       "  <tbody>\n",
       "    <tr>\n",
       "      <th>0</th>\n",
       "      <td>NaN</td>\n",
       "      <td>0</td>\n",
       "      <td>1</td>\n",
       "      <td>0</td>\n",
       "      <td>0</td>\n",
       "      <td>0</td>\n",
       "      <td>0</td>\n",
       "      <td>0</td>\n",
       "      <td>0</td>\n",
       "      <td>0</td>\n",
       "    </tr>\n",
       "    <tr>\n",
       "      <th>1</th>\n",
       "      <td>3D</td>\n",
       "      <td>0</td>\n",
       "      <td>0</td>\n",
       "      <td>0</td>\n",
       "      <td>0</td>\n",
       "      <td>0</td>\n",
       "      <td>1</td>\n",
       "      <td>0</td>\n",
       "      <td>0</td>\n",
       "      <td>0</td>\n",
       "    </tr>\n",
       "    <tr>\n",
       "      <th>2</th>\n",
       "      <td>3D Printing</td>\n",
       "      <td>0</td>\n",
       "      <td>0</td>\n",
       "      <td>0</td>\n",
       "      <td>0</td>\n",
       "      <td>0</td>\n",
       "      <td>1</td>\n",
       "      <td>0</td>\n",
       "      <td>0</td>\n",
       "      <td>0</td>\n",
       "    </tr>\n",
       "    <tr>\n",
       "      <th>3</th>\n",
       "      <td>3D Technology</td>\n",
       "      <td>0</td>\n",
       "      <td>0</td>\n",
       "      <td>0</td>\n",
       "      <td>0</td>\n",
       "      <td>0</td>\n",
       "      <td>1</td>\n",
       "      <td>0</td>\n",
       "      <td>0</td>\n",
       "      <td>0</td>\n",
       "    </tr>\n",
       "    <tr>\n",
       "      <th>4</th>\n",
       "      <td>Accounting</td>\n",
       "      <td>0</td>\n",
       "      <td>0</td>\n",
       "      <td>0</td>\n",
       "      <td>0</td>\n",
       "      <td>0</td>\n",
       "      <td>0</td>\n",
       "      <td>0</td>\n",
       "      <td>0</td>\n",
       "      <td>1</td>\n",
       "    </tr>\n",
       "  </tbody>\n",
       "</table>\n",
       "</div>"
      ],
      "text/plain": [
       "   category_list  Automotive & Sports  Blanks  Cleantech / Semiconductors  \\\n",
       "0            NaN                    0       1                           0   \n",
       "1             3D                    0       0                           0   \n",
       "2    3D Printing                    0       0                           0   \n",
       "3  3D Technology                    0       0                           0   \n",
       "4     Accounting                    0       0                           0   \n",
       "\n",
       "   Entertainment  Health  Manufacturing  News, Search and Messaging  Others  \\\n",
       "0              0       0              0                           0       0   \n",
       "1              0       0              1                           0       0   \n",
       "2              0       0              1                           0       0   \n",
       "3              0       0              1                           0       0   \n",
       "4              0       0              0                           0       0   \n",
       "\n",
       "   Social, Finance, Analytics, Advertising  \n",
       "0                                        0  \n",
       "1                                        0  \n",
       "2                                        0  \n",
       "3                                        0  \n",
       "4                                        1  "
      ]
     },
     "execution_count": 5,
     "metadata": {},
     "output_type": "execute_result"
    }
   ],
   "source": [
    "mappings.head()"
   ]
  },
  {
   "cell_type": "markdown",
   "id": "going-strain",
   "metadata": {},
   "source": [
    "## Checkpoint 1: Data Cleaning\n",
    "\n",
    "Cleaning up the datasets & Finding the Nulls to remove the skewing of the results if required"
   ]
  },
  {
   "cell_type": "code",
   "execution_count": 6,
   "id": "hearing-support",
   "metadata": {
    "collapsed": true
   },
   "outputs": [
    {
     "data": {
      "text/plain": [
       "permalink         0.000000\n",
       "name              0.001507\n",
       "homepage_url      7.621143\n",
       "category_list     4.743250\n",
       "status            0.000000\n",
       "country_code     10.483968\n",
       "state_code       12.878194\n",
       "region           12.099204\n",
       "city             12.096191\n",
       "founded_at       22.934245\n",
       "dtype: float64"
      ]
     },
     "execution_count": 6,
     "metadata": {},
     "output_type": "execute_result"
    }
   ],
   "source": [
    "# Find out the percentage of nulls in companies dataset\n",
    "100* (companies.isnull().sum()/len(companies))"
   ]
  },
  {
   "cell_type": "markdown",
   "id": "connected-emerald",
   "metadata": {},
   "source": [
    "Since we will be filtering out the records for top 3 countries, The null values of country_code in the dataset will do no harm"
   ]
  },
  {
   "cell_type": "code",
   "execution_count": 7,
   "id": "measured-central",
   "metadata": {
    "collapsed": true
   },
   "outputs": [
    {
     "data": {
      "text/plain": [
       "company_permalink           0.000000\n",
       "funding_round_permalink     0.000000\n",
       "funding_round_type          0.000000\n",
       "funding_round_code         72.909725\n",
       "funded_at                   0.000000\n",
       "raised_amount_usd          17.390321\n",
       "dtype: float64"
      ]
     },
     "execution_count": 7,
     "metadata": {},
     "output_type": "execute_result"
    }
   ],
   "source": [
    "100*(rounds2.isnull().sum() /len(rounds2) )"
   ]
  },
  {
   "cell_type": "code",
   "execution_count": 8,
   "id": "according-margin",
   "metadata": {
    "collapsed": true
   },
   "outputs": [
    {
     "data": {
      "text/plain": [
       "count    9.495900e+04\n",
       "mean     1.042687e+07\n",
       "std      1.148212e+08\n",
       "min      0.000000e+00\n",
       "25%      3.225000e+05\n",
       "50%      1.680511e+06\n",
       "75%      7.000000e+06\n",
       "max      2.127194e+10\n",
       "Name: raised_amount_usd, dtype: float64"
      ]
     },
     "execution_count": 8,
     "metadata": {},
     "output_type": "execute_result"
    }
   ],
   "source": [
    "rounds2.raised_amount_usd.describe()"
   ]
  },
  {
   "cell_type": "code",
   "execution_count": 9,
   "id": "completed-ethiopia",
   "metadata": {},
   "outputs": [
    {
     "data": {
      "image/png": "[encoded data removed]",
      "text/plain": [
       "<Figure size 432x288 with 1 Axes>"
      ]
     },
     "metadata": {},
     "output_type": "display_data"
    }
   ],
   "source": [
    "# Plot to show the range of values of Raised Amount and why median is better parameter to pick\n",
    "sns.set_theme(style=\"darkgrid\")\n",
    "rounds2.raised_amount_usd.describe()[3:8].plot()\n",
    "plt.title('Stats of Investment Amount')\n",
    "plt.xlabel('Quantile')\n",
    "plt.ylabel('Raised Amount')\n",
    "plt.show()"
   ]
  },
  {
   "cell_type": "markdown",
   "id": "through-delay",
   "metadata": {},
   "source": [
    "Since the spread of the variable 'raised_amount_usd' is very large, we will be picking `median` as **representative value** to ignore nulls and outliers, The 17% missing values will not skew the count as the median value remained unchanged when analysed seprately with or without null value of field 'raised_amount_usd' for each type 'funding_round_type'"
   ]
  },
  {
   "cell_type": "markdown",
   "id": "general-offset",
   "metadata": {},
   "source": [
    "#### Table 1.1: \n",
    "- Points and Results"
   ]
  },
  {
   "cell_type": "markdown",
   "id": "canadian-gothic",
   "metadata": {},
   "source": [
    "1. Number of unique companies present in rounds2 dataset\n",
    "2. Number of unique companies are present in companies dataset\n",
    "-  Answer - _**In the companies and rounds2 dataset, The column `permalink` can be used as the unique key for each company as there are no missing values for the dataset and is present on both the datasets.**_"
   ]
  },
  {
   "cell_type": "code",
   "execution_count": 10,
   "id": "geographic-paraguay",
   "metadata": {
    "collapsed": true
   },
   "outputs": [
    {
     "data": {
      "text/plain": [
       "company_permalink              0\n",
       "funding_round_permalink        0\n",
       "funding_round_type             0\n",
       "funding_round_code         83809\n",
       "funded_at                      0\n",
       "raised_amount_usd          19990\n",
       "dtype: int64"
      ]
     },
     "execution_count": 10,
     "metadata": {},
     "output_type": "execute_result"
    }
   ],
   "source": [
    "rounds2.head()\n",
    "rounds2.isnull().sum()"
   ]
  },
  {
   "cell_type": "code",
   "execution_count": 11,
   "id": "general-average",
   "metadata": {
    "collapsed": true
   },
   "outputs": [
    {
     "data": {
      "text/plain": [
       "permalink            0\n",
       "name                 1\n",
       "homepage_url      5058\n",
       "category_list     3148\n",
       "status               0\n",
       "country_code      6958\n",
       "state_code        8547\n",
       "region            8030\n",
       "city              8028\n",
       "founded_at       15221\n",
       "dtype: int64"
      ]
     },
     "execution_count": 11,
     "metadata": {},
     "output_type": "execute_result"
    }
   ],
   "source": [
    "companies.head()\n",
    "companies.isnull().sum()"
   ]
  },
  {
   "cell_type": "markdown",
   "id": "confident-watch",
   "metadata": {},
   "source": [
    "- Next we will find out the Unique number of companies `companies` and  `rounds2` dataset"
   ]
  },
  {
   "cell_type": "code",
   "execution_count": 12,
   "id": "distinct-stock",
   "metadata": {},
   "outputs": [
    {
     "data": {
      "text/html": [
       "<div>\n",
       "<style scoped>\n",
       "    .dataframe tbody tr th:only-of-type {\n",
       "        vertical-align: middle;\n",
       "    }\n",
       "\n",
       "    .dataframe tbody tr th {\n",
       "        vertical-align: top;\n",
       "    }\n",
       "\n",
       "    .dataframe thead th {\n",
       "        text-align: right;\n",
       "    }\n",
       "</style>\n",
       "<table border=\"1\" class=\"dataframe\">\n",
       "  <thead>\n",
       "    <tr style=\"text-align: right;\">\n",
       "      <th></th>\n",
       "      <th>company_permalink</th>\n",
       "      <th>funding_round_permalink</th>\n",
       "      <th>funding_round_type</th>\n",
       "      <th>funding_round_code</th>\n",
       "      <th>funded_at</th>\n",
       "      <th>raised_amount_usd</th>\n",
       "      <th>cname</th>\n",
       "    </tr>\n",
       "  </thead>\n",
       "  <tbody>\n",
       "    <tr>\n",
       "      <th>0</th>\n",
       "      <td>/organization/-fame</td>\n",
       "      <td>/funding-round/9a01d05418af9f794eebff7ace91f638</td>\n",
       "      <td>venture</td>\n",
       "      <td>B</td>\n",
       "      <td>05-01-2015</td>\n",
       "      <td>10000000.0</td>\n",
       "      <td>FAME</td>\n",
       "    </tr>\n",
       "    <tr>\n",
       "      <th>1</th>\n",
       "      <td>/ORGANIZATION/-QOUNTER</td>\n",
       "      <td>/funding-round/22dacff496eb7acb2b901dec1dfe5633</td>\n",
       "      <td>venture</td>\n",
       "      <td>A</td>\n",
       "      <td>14-10-2014</td>\n",
       "      <td>NaN</td>\n",
       "      <td>QOUNTER</td>\n",
       "    </tr>\n",
       "  </tbody>\n",
       "</table>\n",
       "</div>"
      ],
      "text/plain": [
       "        company_permalink                          funding_round_permalink  \\\n",
       "0     /organization/-fame  /funding-round/9a01d05418af9f794eebff7ace91f638   \n",
       "1  /ORGANIZATION/-QOUNTER  /funding-round/22dacff496eb7acb2b901dec1dfe5633   \n",
       "\n",
       "  funding_round_type funding_round_code   funded_at  raised_amount_usd  \\\n",
       "0            venture                  B  05-01-2015         10000000.0   \n",
       "1            venture                  A  14-10-2014                NaN   \n",
       "\n",
       "     cname  \n",
       "0     FAME  \n",
       "1  QOUNTER  "
      ]
     },
     "execution_count": 12,
     "metadata": {},
     "output_type": "execute_result"
    }
   ],
   "source": [
    "# Split the permalink on / and expand the list into each element & converting the Series into df with cname as field name\n",
    "compname = pd.DataFrame(rounds2['company_permalink'].str.split('/', expand=True)[2]).rename(columns = {2: 'cname'}) \n",
    "    # Converting the case for all values in the UPPER case and pushing the field into rounds2 dataframe\n",
    "compname =  compname.apply(lambda x: x.str.upper())\n",
    "compname = pd.DataFrame(compname['cname'].str.lstrip('-'))\n",
    "rounds2['cname'] = compname['cname']\n",
    "rounds2.head(2)"
   ]
  },
  {
   "cell_type": "code",
   "execution_count": 13,
   "id": "dangerous-following",
   "metadata": {},
   "outputs": [
    {
     "data": {
      "text/html": [
       "<div>\n",
       "<style scoped>\n",
       "    .dataframe tbody tr th:only-of-type {\n",
       "        vertical-align: middle;\n",
       "    }\n",
       "\n",
       "    .dataframe tbody tr th {\n",
       "        vertical-align: top;\n",
       "    }\n",
       "\n",
       "    .dataframe thead th {\n",
       "        text-align: right;\n",
       "    }\n",
       "</style>\n",
       "<table border=\"1\" class=\"dataframe\">\n",
       "  <thead>\n",
       "    <tr style=\"text-align: right;\">\n",
       "      <th></th>\n",
       "      <th>permalink</th>\n",
       "      <th>name</th>\n",
       "      <th>homepage_url</th>\n",
       "      <th>category_list</th>\n",
       "      <th>status</th>\n",
       "      <th>country_code</th>\n",
       "      <th>state_code</th>\n",
       "      <th>region</th>\n",
       "      <th>city</th>\n",
       "      <th>founded_at</th>\n",
       "      <th>cname</th>\n",
       "    </tr>\n",
       "  </thead>\n",
       "  <tbody>\n",
       "    <tr>\n",
       "      <th>0</th>\n",
       "      <td>/Organization/-Fame</td>\n",
       "      <td>#fame</td>\n",
       "      <td>http://livfame.com</td>\n",
       "      <td>Media</td>\n",
       "      <td>operating</td>\n",
       "      <td>IND</td>\n",
       "      <td>16</td>\n",
       "      <td>Mumbai</td>\n",
       "      <td>Mumbai</td>\n",
       "      <td>NaN</td>\n",
       "      <td>FAME</td>\n",
       "    </tr>\n",
       "    <tr>\n",
       "      <th>1</th>\n",
       "      <td>/Organization/-Qounter</td>\n",
       "      <td>:Qounter</td>\n",
       "      <td>http://www.qounter.com</td>\n",
       "      <td>Application Platforms|Real Time|Social Network...</td>\n",
       "      <td>operating</td>\n",
       "      <td>USA</td>\n",
       "      <td>DE</td>\n",
       "      <td>DE - Other</td>\n",
       "      <td>Delaware City</td>\n",
       "      <td>04-09-2014</td>\n",
       "      <td>QOUNTER</td>\n",
       "    </tr>\n",
       "  </tbody>\n",
       "</table>\n",
       "</div>"
      ],
      "text/plain": [
       "                permalink      name            homepage_url  \\\n",
       "0     /Organization/-Fame     #fame      http://livfame.com   \n",
       "1  /Organization/-Qounter  :Qounter  http://www.qounter.com   \n",
       "\n",
       "                                       category_list     status country_code  \\\n",
       "0                                              Media  operating          IND   \n",
       "1  Application Platforms|Real Time|Social Network...  operating          USA   \n",
       "\n",
       "  state_code      region           city  founded_at    cname  \n",
       "0         16      Mumbai         Mumbai         NaN     FAME  \n",
       "1         DE  DE - Other  Delaware City  04-09-2014  QOUNTER  "
      ]
     },
     "execution_count": 13,
     "metadata": {},
     "output_type": "execute_result"
    }
   ],
   "source": [
    "# Same process can be opted for companies dataset\n",
    "compname = pd.DataFrame(companies['permalink'].str.split('/', expand=True)[2]).rename(columns = {2: 'cname'}) \n",
    "compname =  compname.apply(lambda x: x.str.upper())\n",
    "compname = pd.DataFrame(compname['cname'].str.lstrip('-'))\n",
    "companies['cname'] = compname['cname']\n",
    "companies.head(2)"
   ]
  },
  {
   "cell_type": "code",
   "execution_count": 14,
   "id": "humanitarian-violence",
   "metadata": {
    "collapsed": true
   },
   "outputs": [
    {
     "name": "stdout",
     "output_type": "stream",
     "text": [
      "The Number of Unique companies in the rounds2 dataset are -  66370\n",
      "The Number of Unique companies in the companies dataset are  -  66368\n"
     ]
    }
   ],
   "source": [
    "# Checking the cname field to find out the unique values\n",
    "print('The Number of Unique companies in the rounds2 dataset are - ' , len(pd.DataFrame(rounds2['cname'].unique())))\n",
    "print('The Number of Unique companies in the companies dataset are  - ' , len(pd.DataFrame(companies['cname'].unique())))"
   ]
  },
  {
   "cell_type": "markdown",
   "id": "disabled-motorcycle",
   "metadata": {},
   "source": [
    "4. The list companies in the rounds2 file which are not present in companies."
   ]
  },
  {
   "cell_type": "code",
   "execution_count": 15,
   "id": "premium-bride",
   "metadata": {
    "collapsed": true
   },
   "outputs": [
    {
     "name": "stdout",
     "output_type": "stream",
     "text": [
      "Following is the list of company names in rounds2 dataset which are not present in companies dataset\n"
     ]
    },
    {
     "data": {
      "text/html": [
       "<div>\n",
       "<style scoped>\n",
       "    .dataframe tbody tr th:only-of-type {\n",
       "        vertical-align: middle;\n",
       "    }\n",
       "\n",
       "    .dataframe tbody tr th {\n",
       "        vertical-align: top;\n",
       "    }\n",
       "\n",
       "    .dataframe thead th {\n",
       "        text-align: right;\n",
       "    }\n",
       "</style>\n",
       "<table border=\"1\" class=\"dataframe\">\n",
       "  <thead>\n",
       "    <tr style=\"text-align: right;\">\n",
       "      <th></th>\n",
       "      <th>cname</th>\n",
       "    </tr>\n",
       "  </thead>\n",
       "  <tbody>\n",
       "    <tr>\n",
       "      <th>29597</th>\n",
       "      <td>E-CÃBICA</td>\n",
       "    </tr>\n",
       "    <tr>\n",
       "      <th>31863</th>\n",
       "      <td>ENERGYSTONE-GAMES-ÇΜÇ³Æ¸¸Æ</td>\n",
       "    </tr>\n",
       "    <tr>\n",
       "      <th>45176</th>\n",
       "      <td>HUIZUCHE-COM-Æ Ç§ŸÈ½¦</td>\n",
       "    </tr>\n",
       "    <tr>\n",
       "      <th>58473</th>\n",
       "      <td>MAGNET-TECH-Ç£Ç³Ç§Æ</td>\n",
       "    </tr>\n",
       "    <tr>\n",
       "      <th>101036</th>\n",
       "      <td>TIPCAT-INTERACTIVE-Æ²ÈŸÄ¿¡Æ¯Ç§Æ</td>\n",
       "    </tr>\n",
       "    <tr>\n",
       "      <th>109969</th>\n",
       "      <td>WEICHE-TECH-ÅÈ½¦Ç§Æ</td>\n",
       "    </tr>\n",
       "    <tr>\n",
       "      <th>113839</th>\n",
       "      <td>ZENGAME-Ç¦",
       "Æ¸¸Ç§Æ</td>\n",
       "    </tr>\n",
       "    <tr>\n",
       "      <th>16827</th>\n",
       "      <td>E-CÃBICA</td>\n",
       "    </tr>\n",
       "    <tr>\n",
       "      <th>18197</th>\n",
       "      <td>ENERGYSTONE-GAMES-ÇΜÇŸ³Æ¸¸Æ</td>\n",
       "    </tr>\n",
       "    <tr>\n",
       "      <th>26139</th>\n",
       "      <td>HUIZUCHE-COM-Æ Ç§È½¦</td>\n",
       "    </tr>\n",
       "    <tr>\n",
       "      <th>58344</th>\n",
       "      <td>TIPCAT-INTERACTIVE-Æ²ÈÄ¿¡Æ¯Ç§Æ</td>\n",
       "    </tr>\n",
       "    <tr>\n",
       "      <th>65778</th>\n",
       "      <td>ZENGAME-Ç¦",
       "Æ¸¸Ç§Æ</td>\n",
       "    </tr>\n",
       "  </tbody>\n",
       "</table>\n",
       "</div>"
      ],
      "text/plain": [
       "                                        cname\n",
       "29597                               E-CÃBICA\n",
       "31863          ENERGYSTONE-GAMES-ÇΜÇ³Æ¸¸Æ\n",
       "45176                  HUIZUCHE-COM-Æ Ç§ŸÈ½¦\n",
       "58473                MAGNET-TECH-Ç£Ç³Ç§Æ\n",
       "101036  TIPCAT-INTERACTIVE-Æ²ÈŸÄ¿¡Æ¯Ç§Æ\n",
       "109969               WEICHE-TECH-ÅÈ½¦Ç§Æ\n",
       "113839                   ZENGAME-Ç¦\n",
       "Æ¸¸Ç§Æ\n",
       "16827                               E-CÃBICA\n",
       "18197          ENERGYSTONE-GAMES-ÇΜÇŸ³Æ¸¸Æ\n",
       "26139                  HUIZUCHE-COM-Æ Ç§È½¦\n",
       "58344   TIPCAT-INTERACTIVE-Æ²ÈÄ¿¡Æ¯Ç§Æ\n",
       "65778                    ZENGAME-Ç¦\n",
       "Æ¸¸Ç§Æ"
      ]
     },
     "execution_count": 15,
     "metadata": {},
     "output_type": "execute_result"
    }
   ],
   "source": [
    "df_diff = pd.concat([rounds2,companies], join=\"inner\",axis=0).drop_duplicates(keep=False)\n",
    "print('Following is the list of company names in rounds2 dataset which are not present in companies dataset')\n",
    "df_diff"
   ]
  },
  {
   "cell_type": "markdown",
   "id": "virgin-platform",
   "metadata": {},
   "source": [
    "5. Merging of companies and rounds2 as master_frame \n",
    "6. Number of observations present in master_frame"
   ]
  },
  {
   "cell_type": "code",
   "execution_count": 16,
   "id": "popular-fireplace",
   "metadata": {
    "collapsed": true
   },
   "outputs": [
    {
     "name": "stdout",
     "output_type": "stream",
     "text": [
      "The number of observation in master_frame after merging companies into rounds2 dataframe are -  114954\n"
     ]
    }
   ],
   "source": [
    "master_frame = pd.merge(companies, rounds2, on=['cname'], how='outer')\n",
    "print('The number of observation in master_frame after merging companies into rounds2 dataframe are - ',len(master_frame.cname))"
   ]
  },
  {
   "cell_type": "code",
   "execution_count": 17,
   "id": "sporting-raise",
   "metadata": {
    "collapsed": true
   },
   "outputs": [
    {
     "data": {
      "text/html": [
       "<div>\n",
       "<style scoped>\n",
       "    .dataframe tbody tr th:only-of-type {\n",
       "        vertical-align: middle;\n",
       "    }\n",
       "\n",
       "    .dataframe tbody tr th {\n",
       "        vertical-align: top;\n",
       "    }\n",
       "\n",
       "    .dataframe thead th {\n",
       "        text-align: right;\n",
       "    }\n",
       "</style>\n",
       "<table border=\"1\" class=\"dataframe\">\n",
       "  <thead>\n",
       "    <tr style=\"text-align: right;\">\n",
       "      <th></th>\n",
       "      <th>permalink</th>\n",
       "      <th>name</th>\n",
       "      <th>homepage_url</th>\n",
       "      <th>category_list</th>\n",
       "      <th>status</th>\n",
       "      <th>country_code</th>\n",
       "      <th>state_code</th>\n",
       "      <th>region</th>\n",
       "      <th>city</th>\n",
       "      <th>founded_at</th>\n",
       "      <th>cname</th>\n",
       "      <th>company_permalink</th>\n",
       "      <th>funding_round_permalink</th>\n",
       "      <th>funding_round_type</th>\n",
       "      <th>funding_round_code</th>\n",
       "      <th>funded_at</th>\n",
       "      <th>raised_amount_usd</th>\n",
       "    </tr>\n",
       "  </thead>\n",
       "  <tbody>\n",
       "    <tr>\n",
       "      <th>0</th>\n",
       "      <td>/Organization/-Fame</td>\n",
       "      <td>#fame</td>\n",
       "      <td>http://livfame.com</td>\n",
       "      <td>Media</td>\n",
       "      <td>operating</td>\n",
       "      <td>IND</td>\n",
       "      <td>16</td>\n",
       "      <td>Mumbai</td>\n",
       "      <td>Mumbai</td>\n",
       "      <td>NaN</td>\n",
       "      <td>FAME</td>\n",
       "      <td>/organization/-fame</td>\n",
       "      <td>/funding-round/9a01d05418af9f794eebff7ace91f638</td>\n",
       "      <td>venture</td>\n",
       "      <td>B</td>\n",
       "      <td>05-01-2015</td>\n",
       "      <td>10000000.0</td>\n",
       "    </tr>\n",
       "    <tr>\n",
       "      <th>1</th>\n",
       "      <td>/Organization/-Qounter</td>\n",
       "      <td>:Qounter</td>\n",
       "      <td>http://www.qounter.com</td>\n",
       "      <td>Application Platforms|Real Time|Social Network...</td>\n",
       "      <td>operating</td>\n",
       "      <td>USA</td>\n",
       "      <td>DE</td>\n",
       "      <td>DE - Other</td>\n",
       "      <td>Delaware City</td>\n",
       "      <td>04-09-2014</td>\n",
       "      <td>QOUNTER</td>\n",
       "      <td>/ORGANIZATION/-QOUNTER</td>\n",
       "      <td>/funding-round/22dacff496eb7acb2b901dec1dfe5633</td>\n",
       "      <td>venture</td>\n",
       "      <td>A</td>\n",
       "      <td>14-10-2014</td>\n",
       "      <td>NaN</td>\n",
       "    </tr>\n",
       "    <tr>\n",
       "      <th>2</th>\n",
       "      <td>/Organization/-Qounter</td>\n",
       "      <td>:Qounter</td>\n",
       "      <td>http://www.qounter.com</td>\n",
       "      <td>Application Platforms|Real Time|Social Network...</td>\n",
       "      <td>operating</td>\n",
       "      <td>USA</td>\n",
       "      <td>DE</td>\n",
       "      <td>DE - Other</td>\n",
       "      <td>Delaware City</td>\n",
       "      <td>04-09-2014</td>\n",
       "      <td>QOUNTER</td>\n",
       "      <td>/organization/-qounter</td>\n",
       "      <td>/funding-round/b44fbb94153f6cdef13083530bb48030</td>\n",
       "      <td>seed</td>\n",
       "      <td>NaN</td>\n",
       "      <td>01-03-2014</td>\n",
       "      <td>700000.0</td>\n",
       "    </tr>\n",
       "    <tr>\n",
       "      <th>3</th>\n",
       "      <td>/Organization/-The-One-Of-Them-Inc-</td>\n",
       "      <td>(THE) ONE of THEM,Inc.</td>\n",
       "      <td>http://oneofthem.jp</td>\n",
       "      <td>Apps|Games|Mobile</td>\n",
       "      <td>operating</td>\n",
       "      <td>NaN</td>\n",
       "      <td>NaN</td>\n",
       "      <td>NaN</td>\n",
       "      <td>NaN</td>\n",
       "      <td>NaN</td>\n",
       "      <td>THE-ONE-OF-THEM-INC-</td>\n",
       "      <td>/ORGANIZATION/-THE-ONE-OF-THEM-INC-</td>\n",
       "      <td>/funding-round/650b8f704416801069bb178a1418776b</td>\n",
       "      <td>venture</td>\n",
       "      <td>B</td>\n",
       "      <td>30-01-2014</td>\n",
       "      <td>3406878.0</td>\n",
       "    </tr>\n",
       "    <tr>\n",
       "      <th>4</th>\n",
       "      <td>/Organization/0-6-Com</td>\n",
       "      <td>0-6.com</td>\n",
       "      <td>http://www.0-6.com</td>\n",
       "      <td>Curated Web</td>\n",
       "      <td>operating</td>\n",
       "      <td>CHN</td>\n",
       "      <td>22</td>\n",
       "      <td>Beijing</td>\n",
       "      <td>Beijing</td>\n",
       "      <td>01-01-2007</td>\n",
       "      <td>0-6-COM</td>\n",
       "      <td>/organization/0-6-com</td>\n",
       "      <td>/funding-round/5727accaeaa57461bd22a9bdd945382d</td>\n",
       "      <td>venture</td>\n",
       "      <td>A</td>\n",
       "      <td>19-03-2008</td>\n",
       "      <td>2000000.0</td>\n",
       "    </tr>\n",
       "  </tbody>\n",
       "</table>\n",
       "</div>"
      ],
      "text/plain": [
       "                             permalink                    name  \\\n",
       "0                  /Organization/-Fame                   #fame   \n",
       "1               /Organization/-Qounter                :Qounter   \n",
       "2               /Organization/-Qounter                :Qounter   \n",
       "3  /Organization/-The-One-Of-Them-Inc-  (THE) ONE of THEM,Inc.   \n",
       "4                /Organization/0-6-Com                 0-6.com   \n",
       "\n",
       "             homepage_url                                      category_list  \\\n",
       "0      http://livfame.com                                              Media   \n",
       "1  http://www.qounter.com  Application Platforms|Real Time|Social Network...   \n",
       "2  http://www.qounter.com  Application Platforms|Real Time|Social Network...   \n",
       "3     http://oneofthem.jp                                  Apps|Games|Mobile   \n",
       "4      http://www.0-6.com                                        Curated Web   \n",
       "\n",
       "      status country_code state_code      region           city  founded_at  \\\n",
       "0  operating          IND         16      Mumbai         Mumbai         NaN   \n",
       "1  operating          USA         DE  DE - Other  Delaware City  04-09-2014   \n",
       "2  operating          USA         DE  DE - Other  Delaware City  04-09-2014   \n",
       "3  operating          NaN        NaN         NaN            NaN         NaN   \n",
       "4  operating          CHN         22     Beijing        Beijing  01-01-2007   \n",
       "\n",
       "                  cname                    company_permalink  \\\n",
       "0                  FAME                  /organization/-fame   \n",
       "1               QOUNTER               /ORGANIZATION/-QOUNTER   \n",
       "2               QOUNTER               /organization/-qounter   \n",
       "3  THE-ONE-OF-THEM-INC-  /ORGANIZATION/-THE-ONE-OF-THEM-INC-   \n",
       "4               0-6-COM                /organization/0-6-com   \n",
       "\n",
       "                           funding_round_permalink funding_round_type  \\\n",
       "0  /funding-round/9a01d05418af9f794eebff7ace91f638            venture   \n",
       "1  /funding-round/22dacff496eb7acb2b901dec1dfe5633            venture   \n",
       "2  /funding-round/b44fbb94153f6cdef13083530bb48030               seed   \n",
       "3  /funding-round/650b8f704416801069bb178a1418776b            venture   \n",
       "4  /funding-round/5727accaeaa57461bd22a9bdd945382d            venture   \n",
       "\n",
       "  funding_round_code   funded_at  raised_amount_usd  \n",
       "0                  B  05-01-2015         10000000.0  \n",
       "1                  A  14-10-2014                NaN  \n",
       "2                NaN  01-03-2014           700000.0  \n",
       "3                  B  30-01-2014          3406878.0  \n",
       "4                  A  19-03-2008          2000000.0  "
      ]
     },
     "execution_count": 17,
     "metadata": {},
     "output_type": "execute_result"
    }
   ],
   "source": [
    "master_frame.head()"
   ]
  },
  {
   "cell_type": "markdown",
   "id": "primary-conversation",
   "metadata": {},
   "source": [
    "***\n",
    "## Checkpoint 2: Funding Type Analysis"
   ]
  },
  {
   "cell_type": "markdown",
   "id": "muslim-cooling",
   "metadata": {},
   "source": [
    "***\n",
    "**Find out the Investment type out of 'Seed', 'Angel', 'Venture' and 'Private_Equity' for Spark Funds to invest wants based on the Investment amount of 5 to 15 million USD**\n",
    "\n",
    "1. Given the very large range (few thousands to Billions) of the numeric field, the most representative value of the investment amount for each of the four funding types (venture, angel, seed, and private equity) would be median"
   ]
  },
  {
   "cell_type": "code",
   "execution_count": 18,
   "id": "clean-quebec",
   "metadata": {
    "collapsed": true
   },
   "outputs": [
    {
     "name": "stdout",
     "output_type": "stream",
     "text": [
      "The Representative value i.e. median for Seed, Angel, Venture and PE are \n",
      "\n",
      "Seed           = 275000.0\n",
      "Angel          = 400000.0\n",
      "Venture        = 5000000.0\n",
      "Private Equity = 20000000.0\n"
     ]
    }
   ],
   "source": [
    "# Median value for each \n",
    "print('The Representative value i.e. median for Seed, Angel, Venture and PE are \\n')\n",
    "\n",
    "print('Seed           =',master_frame[master_frame.funding_round_type == 'seed'].median()[0])\n",
    "print('Angel          =',master_frame[master_frame.funding_round_type == 'angel'].median()[0])\n",
    "print('Venture        =',master_frame[master_frame.funding_round_type == 'venture'].median()[0])\n",
    "print('Private Equity =',master_frame[master_frame.funding_round_type == 'private_equity'].median()[0])"
   ]
  },
  {
   "cell_type": "code",
   "execution_count": 19,
   "id": "satisfied-origin",
   "metadata": {
    "collapsed": true
   },
   "outputs": [
    {
     "data": {
      "image/png": "[encoded data removed]",
      "text/plain": [
       "<Figure size 1080x504 with 1 Axes>"
      ]
     },
     "metadata": {},
     "output_type": "display_data"
    }
   ],
   "source": [
    "# Lets try to visualize the range to see the difference\n",
    "ft = pd.DataFrame([])\n",
    "ft['seed'] = [master_frame[master_frame.funding_round_type == 'seed'].median()[0]]\n",
    "ft['angel'] = [master_frame[master_frame.funding_round_type == 'angel'].median()[0]]\n",
    "ft['venture'] = [master_frame[master_frame.funding_round_type == 'venture'].median()[0]]\n",
    "ft['private_equity'] = [master_frame[master_frame.funding_round_type == 'private_equity'].median()[0]]\n",
    "ft.plot.bar(figsize=[15,7])\n",
    "plt.title('Median Investment across Funding Types')\n",
    "plt.xlabel('Funding Types')\n",
    "plt.ylabel('Median Amount-Billion USD')\n",
    "plt.show()"
   ]
  },
  {
   "cell_type": "markdown",
   "id": "interesting-nickel",
   "metadata": {},
   "source": [
    "Given Spark Funds wants to invest between 5 to 15 million USD,the category of funding type moste suitable is <font color=blue> Venture </font> with the median value of raised amount equal to 5 million."
   ]
  },
  {
   "cell_type": "markdown",
   "id": "basic-calgary",
   "metadata": {},
   "source": [
    "## Checkpoint 3: Country Analysis"
   ]
  },
  {
   "cell_type": "markdown",
   "id": "physical-panel",
   "metadata": {},
   "source": [
    "***\n",
    "Narrowing down the English speaking countries with the highest amount of funding for the Venture investment type where Spark Funds wants to invest in . A broader strategy to invest where most investments are occurring."
   ]
  },
  {
   "cell_type": "markdown",
   "id": "respiratory-commodity",
   "metadata": {},
   "source": [
    "As required, For `Venture` investment type, We will create a data frame named top9 with the top nine countries receiving highest\n",
    "total investments "
   ]
  },
  {
   "cell_type": "code",
   "execution_count": 20,
   "id": "colored-raise",
   "metadata": {
    "collapsed": true
   },
   "outputs": [],
   "source": [
    "df = master_frame.loc[master_frame.funding_round_type == 'venture']\n",
    "top9 = df.groupby('country_code').sum().sort_values(['raised_amount_usd'],ascending=False)[:10]"
   ]
  },
  {
   "cell_type": "code",
   "execution_count": 21,
   "id": "mechanical-norwegian",
   "metadata": {},
   "outputs": [
    {
     "data": {
      "image/png": "[encoded data removed]",
      "text/plain": [
       "<Figure size 1080x504 with 1 Axes>"
      ]
     },
     "metadata": {},
     "output_type": "display_data"
    }
   ],
   "source": [
    "# Lets visualize the results in a bar plot \n",
    "top9.plot.bar(figsize=[15,7])\n",
    "plt.title('Venture Investments across top 9 countries')\n",
    "plt.xlabel('Country')\n",
    "plt.ylabel('Net Investments--Billion USD')\n",
    "plt.show()"
   ]
  },
  {
   "cell_type": "markdown",
   "id": "wicked-baker",
   "metadata": {},
   "source": [
    "As per the Link provided https://en.wikipedia.org/wiki/List_of_countries_and_territories_where_English_is_an_official_language, Following are the top3 English speaking countries based on the amount raised for funding type - `Venture`\n",
    "1. USA \n",
    "2. GBR\n",
    "3. IND"
   ]
  },
  {
   "cell_type": "code",
   "execution_count": 22,
   "id": "quiet-sauce",
   "metadata": {
    "collapsed": true
   },
   "outputs": [
    {
     "data": {
      "text/plain": [
       "array(['IND', 'USA', 'GBR'], dtype=object)"
      ]
     },
     "execution_count": 22,
     "metadata": {},
     "output_type": "execute_result"
    }
   ],
   "source": [
    "# Filtering the top9 further to only include the top 3 English speaking country\n",
    "top3 = df.loc[df.country_code.isin(['USA','GBR','IND'])].reset_index(drop=True)\n",
    "top3.country_code.unique()"
   ]
  },
  {
   "cell_type": "markdown",
   "id": "nearby-february",
   "metadata": {},
   "source": [
    "## Checkpoint 4: Sector Analysis 1\n",
    "***"
   ]
  },
  {
   "cell_type": "markdown",
   "id": "consistent-organization",
   "metadata": {},
   "source": [
    "We will extract the primary sector of each category list from the category_list column based on the Business Rule that the first string before the vertical bar will be considered the primary sector.\n",
    "\n",
    "The mapping file 'mapping.csv' will be used to map each primary sector to one of the eight main sectors (Note that ‘Others’ is also considered one of the main sectors)\n",
    "***\n",
    "- The category_list will splitted and expanded to select the Primary sector based on Business Rule. Rename category_list field temporarily"
   ]
  },
  {
   "cell_type": "code",
   "execution_count": 23,
   "id": "binding-arbor",
   "metadata": {},
   "outputs": [
    {
     "data": {
      "text/html": [
       "<div>\n",
       "<style scoped>\n",
       "    .dataframe tbody tr th:only-of-type {\n",
       "        vertical-align: middle;\n",
       "    }\n",
       "\n",
       "    .dataframe tbody tr th {\n",
       "        vertical-align: top;\n",
       "    }\n",
       "\n",
       "    .dataframe thead th {\n",
       "        text-align: right;\n",
       "    }\n",
       "</style>\n",
       "<table border=\"1\" class=\"dataframe\">\n",
       "  <thead>\n",
       "    <tr style=\"text-align: right;\">\n",
       "      <th></th>\n",
       "      <th>permalink</th>\n",
       "      <th>name</th>\n",
       "      <th>homepage_url</th>\n",
       "      <th>comb_cat_list</th>\n",
       "      <th>status</th>\n",
       "      <th>country_code</th>\n",
       "      <th>state_code</th>\n",
       "      <th>region</th>\n",
       "      <th>city</th>\n",
       "      <th>founded_at</th>\n",
       "      <th>cname</th>\n",
       "      <th>company_permalink</th>\n",
       "      <th>funding_round_permalink</th>\n",
       "      <th>funding_round_type</th>\n",
       "      <th>funding_round_code</th>\n",
       "      <th>funded_at</th>\n",
       "      <th>raised_amount_usd</th>\n",
       "      <th>category_list</th>\n",
       "    </tr>\n",
       "  </thead>\n",
       "  <tbody>\n",
       "    <tr>\n",
       "      <th>0</th>\n",
       "      <td>/Organization/-Fame</td>\n",
       "      <td>#fame</td>\n",
       "      <td>http://livfame.com</td>\n",
       "      <td>Media</td>\n",
       "      <td>operating</td>\n",
       "      <td>IND</td>\n",
       "      <td>16</td>\n",
       "      <td>Mumbai</td>\n",
       "      <td>Mumbai</td>\n",
       "      <td>NaN</td>\n",
       "      <td>FAME</td>\n",
       "      <td>/organization/-fame</td>\n",
       "      <td>/funding-round/9a01d05418af9f794eebff7ace91f638</td>\n",
       "      <td>venture</td>\n",
       "      <td>B</td>\n",
       "      <td>05-01-2015</td>\n",
       "      <td>10000000.0</td>\n",
       "      <td>Media</td>\n",
       "    </tr>\n",
       "    <tr>\n",
       "      <th>1</th>\n",
       "      <td>/Organization/-Qounter</td>\n",
       "      <td>:Qounter</td>\n",
       "      <td>http://www.qounter.com</td>\n",
       "      <td>Application Platforms|Real Time|Social Network...</td>\n",
       "      <td>operating</td>\n",
       "      <td>USA</td>\n",
       "      <td>DE</td>\n",
       "      <td>DE - Other</td>\n",
       "      <td>Delaware City</td>\n",
       "      <td>04-09-2014</td>\n",
       "      <td>QOUNTER</td>\n",
       "      <td>/ORGANIZATION/-QOUNTER</td>\n",
       "      <td>/funding-round/22dacff496eb7acb2b901dec1dfe5633</td>\n",
       "      <td>venture</td>\n",
       "      <td>A</td>\n",
       "      <td>14-10-2014</td>\n",
       "      <td>NaN</td>\n",
       "      <td>Application Platforms</td>\n",
       "    </tr>\n",
       "    <tr>\n",
       "      <th>2</th>\n",
       "      <td>/Organization/004-Technologies</td>\n",
       "      <td>004 Technologies</td>\n",
       "      <td>http://004gmbh.de/en/004-interact</td>\n",
       "      <td>Software</td>\n",
       "      <td>operating</td>\n",
       "      <td>USA</td>\n",
       "      <td>IL</td>\n",
       "      <td>Springfield, Illinois</td>\n",
       "      <td>Champaign</td>\n",
       "      <td>01-01-2010</td>\n",
       "      <td>004-TECHNOLOGIES</td>\n",
       "      <td>/ORGANIZATION/004-TECHNOLOGIES</td>\n",
       "      <td>/funding-round/1278dd4e6a37fa4b7d7e06c21b3c1830</td>\n",
       "      <td>venture</td>\n",
       "      <td>NaN</td>\n",
       "      <td>24-07-2014</td>\n",
       "      <td>NaN</td>\n",
       "      <td>Software</td>\n",
       "    </tr>\n",
       "    <tr>\n",
       "      <th>3</th>\n",
       "      <td>/Organization/0Xdata</td>\n",
       "      <td>H2O.ai</td>\n",
       "      <td>http://h2o.ai/</td>\n",
       "      <td>Analytics</td>\n",
       "      <td>operating</td>\n",
       "      <td>USA</td>\n",
       "      <td>CA</td>\n",
       "      <td>SF Bay Area</td>\n",
       "      <td>Mountain View</td>\n",
       "      <td>01-01-2011</td>\n",
       "      <td>0XDATA</td>\n",
       "      <td>/organization/0xdata</td>\n",
       "      <td>/funding-round/3bb2ee4a2d89251a10aaa735b1180e44</td>\n",
       "      <td>venture</td>\n",
       "      <td>B</td>\n",
       "      <td>09-11-2015</td>\n",
       "      <td>20000000.0</td>\n",
       "      <td>Analytics</td>\n",
       "    </tr>\n",
       "    <tr>\n",
       "      <th>4</th>\n",
       "      <td>/Organization/0Xdata</td>\n",
       "      <td>H2O.ai</td>\n",
       "      <td>http://h2o.ai/</td>\n",
       "      <td>Analytics</td>\n",
       "      <td>operating</td>\n",
       "      <td>USA</td>\n",
       "      <td>CA</td>\n",
       "      <td>SF Bay Area</td>\n",
       "      <td>Mountain View</td>\n",
       "      <td>01-01-2011</td>\n",
       "      <td>0XDATA</td>\n",
       "      <td>/ORGANIZATION/0XDATA</td>\n",
       "      <td>/funding-round/ae2a174c06517c2394aed45006322a7e</td>\n",
       "      <td>venture</td>\n",
       "      <td>NaN</td>\n",
       "      <td>03-01-2013</td>\n",
       "      <td>1700000.0</td>\n",
       "      <td>Analytics</td>\n",
       "    </tr>\n",
       "    <tr>\n",
       "      <th>...</th>\n",
       "      <td>...</td>\n",
       "      <td>...</td>\n",
       "      <td>...</td>\n",
       "      <td>...</td>\n",
       "      <td>...</td>\n",
       "      <td>...</td>\n",
       "      <td>...</td>\n",
       "      <td>...</td>\n",
       "      <td>...</td>\n",
       "      <td>...</td>\n",
       "      <td>...</td>\n",
       "      <td>...</td>\n",
       "      <td>...</td>\n",
       "      <td>...</td>\n",
       "      <td>...</td>\n",
       "      <td>...</td>\n",
       "      <td>...</td>\n",
       "      <td>...</td>\n",
       "    </tr>\n",
       "    <tr>\n",
       "      <th>41662</th>\n",
       "      <td>/Organization/Zyomyx-Inc</td>\n",
       "      <td>ZYOMYX</td>\n",
       "      <td>http://www.zyomyx.com</td>\n",
       "      <td>Biotechnology</td>\n",
       "      <td>operating</td>\n",
       "      <td>USA</td>\n",
       "      <td>MO</td>\n",
       "      <td>MO - Other</td>\n",
       "      <td>Fremont</td>\n",
       "      <td>01-01-1998</td>\n",
       "      <td>ZYOMYX-INC</td>\n",
       "      <td>/organization/zyomyx-inc</td>\n",
       "      <td>/funding-round/4191cb5258d3863b0212d1083881da64</td>\n",
       "      <td>venture</td>\n",
       "      <td>B</td>\n",
       "      <td>30-06-2013</td>\n",
       "      <td>12000000.0</td>\n",
       "      <td>Biotechnology</td>\n",
       "    </tr>\n",
       "    <tr>\n",
       "      <th>41663</th>\n",
       "      <td>/Organization/Zyomyx-Inc</td>\n",
       "      <td>ZYOMYX</td>\n",
       "      <td>http://www.zyomyx.com</td>\n",
       "      <td>Biotechnology</td>\n",
       "      <td>operating</td>\n",
       "      <td>USA</td>\n",
       "      <td>MO</td>\n",
       "      <td>MO - Other</td>\n",
       "      <td>Fremont</td>\n",
       "      <td>01-01-1998</td>\n",
       "      <td>ZYOMYX-INC</td>\n",
       "      <td>/organization/zyomyx-inc</td>\n",
       "      <td>/funding-round/b4fce7f8a13267353d57db09099800e8</td>\n",
       "      <td>venture</td>\n",
       "      <td>NaN</td>\n",
       "      <td>11-07-2013</td>\n",
       "      <td>14219999.0</td>\n",
       "      <td>Biotechnology</td>\n",
       "    </tr>\n",
       "    <tr>\n",
       "      <th>41664</th>\n",
       "      <td>/Organization/Zyomyx-Inc</td>\n",
       "      <td>ZYOMYX</td>\n",
       "      <td>http://www.zyomyx.com</td>\n",
       "      <td>Biotechnology</td>\n",
       "      <td>operating</td>\n",
       "      <td>USA</td>\n",
       "      <td>MO</td>\n",
       "      <td>MO - Other</td>\n",
       "      <td>Fremont</td>\n",
       "      <td>01-01-1998</td>\n",
       "      <td>ZYOMYX-INC</td>\n",
       "      <td>/ORGANIZATION/ZYOMYX-INC</td>\n",
       "      <td>/funding-round/ea5b21da6cf999ff4d5667431fe318d7</td>\n",
       "      <td>venture</td>\n",
       "      <td>NaN</td>\n",
       "      <td>29-01-2010</td>\n",
       "      <td>555016.0</td>\n",
       "      <td>Biotechnology</td>\n",
       "    </tr>\n",
       "    <tr>\n",
       "      <th>41665</th>\n",
       "      <td>/Organization/Zyrra</td>\n",
       "      <td>Zyrra</td>\n",
       "      <td>http://www.zyrra.com</td>\n",
       "      <td>E-Commerce</td>\n",
       "      <td>operating</td>\n",
       "      <td>USA</td>\n",
       "      <td>MA</td>\n",
       "      <td>Boston</td>\n",
       "      <td>Cambridge</td>\n",
       "      <td>NaN</td>\n",
       "      <td>ZYRRA</td>\n",
       "      <td>/organization/zyrra</td>\n",
       "      <td>/funding-round/7a0fa791c96c9c447ee54662395beab9</td>\n",
       "      <td>venture</td>\n",
       "      <td>NaN</td>\n",
       "      <td>18-10-2012</td>\n",
       "      <td>140500.0</td>\n",
       "      <td>E-Commerce</td>\n",
       "    </tr>\n",
       "    <tr>\n",
       "      <th>41666</th>\n",
       "      <td>/Organization/Zystor</td>\n",
       "      <td>Zystor</td>\n",
       "      <td>http://www.zystor.com</td>\n",
       "      <td>Biotechnology</td>\n",
       "      <td>acquired</td>\n",
       "      <td>USA</td>\n",
       "      <td>WI</td>\n",
       "      <td>Milwaukee</td>\n",
       "      <td>Milwaukee</td>\n",
       "      <td>NaN</td>\n",
       "      <td>ZYSTOR</td>\n",
       "      <td>/organization/zystor</td>\n",
       "      <td>/funding-round/7ea37c0ff4132b084832039a9380d34e</td>\n",
       "      <td>venture</td>\n",
       "      <td>A</td>\n",
       "      <td>16-12-2004</td>\n",
       "      <td>8500000.0</td>\n",
       "      <td>Biotechnology</td>\n",
       "    </tr>\n",
       "  </tbody>\n",
       "</table>\n",
       "<p>41667 rows × 18 columns</p>\n",
       "</div>"
      ],
      "text/plain": [
       "                            permalink              name  \\\n",
       "0                 /Organization/-Fame             #fame   \n",
       "1              /Organization/-Qounter          :Qounter   \n",
       "2      /Organization/004-Technologies  004 Technologies   \n",
       "3                /Organization/0Xdata            H2O.ai   \n",
       "4                /Organization/0Xdata            H2O.ai   \n",
       "...                               ...               ...   \n",
       "41662        /Organization/Zyomyx-Inc            ZYOMYX   \n",
       "41663        /Organization/Zyomyx-Inc            ZYOMYX   \n",
       "41664        /Organization/Zyomyx-Inc            ZYOMYX   \n",
       "41665             /Organization/Zyrra             Zyrra   \n",
       "41666            /Organization/Zystor            Zystor   \n",
       "\n",
       "                            homepage_url  \\\n",
       "0                     http://livfame.com   \n",
       "1                 http://www.qounter.com   \n",
       "2      http://004gmbh.de/en/004-interact   \n",
       "3                         http://h2o.ai/   \n",
       "4                         http://h2o.ai/   \n",
       "...                                  ...   \n",
       "41662              http://www.zyomyx.com   \n",
       "41663              http://www.zyomyx.com   \n",
       "41664              http://www.zyomyx.com   \n",
       "41665               http://www.zyrra.com   \n",
       "41666              http://www.zystor.com   \n",
       "\n",
       "                                           comb_cat_list     status  \\\n",
       "0                                                  Media  operating   \n",
       "1      Application Platforms|Real Time|Social Network...  operating   \n",
       "2                                               Software  operating   \n",
       "3                                              Analytics  operating   \n",
       "4                                              Analytics  operating   \n",
       "...                                                  ...        ...   \n",
       "41662                                      Biotechnology  operating   \n",
       "41663                                      Biotechnology  operating   \n",
       "41664                                      Biotechnology  operating   \n",
       "41665                                         E-Commerce  operating   \n",
       "41666                                      Biotechnology   acquired   \n",
       "\n",
       "      country_code state_code                 region           city  \\\n",
       "0              IND         16                 Mumbai         Mumbai   \n",
       "1              USA         DE             DE - Other  Delaware City   \n",
       "2              USA         IL  Springfield, Illinois      Champaign   \n",
       "3              USA         CA            SF Bay Area  Mountain View   \n",
       "4              USA         CA            SF Bay Area  Mountain View   \n",
       "...            ...        ...                    ...            ...   \n",
       "41662          USA         MO             MO - Other        Fremont   \n",
       "41663          USA         MO             MO - Other        Fremont   \n",
       "41664          USA         MO             MO - Other        Fremont   \n",
       "41665          USA         MA                 Boston      Cambridge   \n",
       "41666          USA         WI              Milwaukee      Milwaukee   \n",
       "\n",
       "       founded_at             cname               company_permalink  \\\n",
       "0             NaN              FAME             /organization/-fame   \n",
       "1      04-09-2014           QOUNTER          /ORGANIZATION/-QOUNTER   \n",
       "2      01-01-2010  004-TECHNOLOGIES  /ORGANIZATION/004-TECHNOLOGIES   \n",
       "3      01-01-2011            0XDATA            /organization/0xdata   \n",
       "4      01-01-2011            0XDATA            /ORGANIZATION/0XDATA   \n",
       "...           ...               ...                             ...   \n",
       "41662  01-01-1998        ZYOMYX-INC        /organization/zyomyx-inc   \n",
       "41663  01-01-1998        ZYOMYX-INC        /organization/zyomyx-inc   \n",
       "41664  01-01-1998        ZYOMYX-INC        /ORGANIZATION/ZYOMYX-INC   \n",
       "41665         NaN             ZYRRA             /organization/zyrra   \n",
       "41666         NaN            ZYSTOR            /organization/zystor   \n",
       "\n",
       "                               funding_round_permalink funding_round_type  \\\n",
       "0      /funding-round/9a01d05418af9f794eebff7ace91f638            venture   \n",
       "1      /funding-round/22dacff496eb7acb2b901dec1dfe5633            venture   \n",
       "2      /funding-round/1278dd4e6a37fa4b7d7e06c21b3c1830            venture   \n",
       "3      /funding-round/3bb2ee4a2d89251a10aaa735b1180e44            venture   \n",
       "4      /funding-round/ae2a174c06517c2394aed45006322a7e            venture   \n",
       "...                                                ...                ...   \n",
       "41662  /funding-round/4191cb5258d3863b0212d1083881da64            venture   \n",
       "41663  /funding-round/b4fce7f8a13267353d57db09099800e8            venture   \n",
       "41664  /funding-round/ea5b21da6cf999ff4d5667431fe318d7            venture   \n",
       "41665  /funding-round/7a0fa791c96c9c447ee54662395beab9            venture   \n",
       "41666  /funding-round/7ea37c0ff4132b084832039a9380d34e            venture   \n",
       "\n",
       "      funding_round_code   funded_at  raised_amount_usd          category_list  \n",
       "0                      B  05-01-2015         10000000.0                  Media  \n",
       "1                      A  14-10-2014                NaN  Application Platforms  \n",
       "2                    NaN  24-07-2014                NaN               Software  \n",
       "3                      B  09-11-2015         20000000.0              Analytics  \n",
       "4                    NaN  03-01-2013          1700000.0              Analytics  \n",
       "...                  ...         ...                ...                    ...  \n",
       "41662                  B  30-06-2013         12000000.0          Biotechnology  \n",
       "41663                NaN  11-07-2013         14219999.0          Biotechnology  \n",
       "41664                NaN  29-01-2010           555016.0          Biotechnology  \n",
       "41665                NaN  18-10-2012           140500.0             E-Commerce  \n",
       "41666                  A  16-12-2004          8500000.0          Biotechnology  \n",
       "\n",
       "[41667 rows x 18 columns]"
      ]
     },
     "execution_count": 23,
     "metadata": {},
     "output_type": "execute_result"
    }
   ],
   "source": [
    "top3 = top3.rename(columns={'category_list':'comb_cat_list'})\n",
    "top3_temp = pd.DataFrame(top3['comb_cat_list'].str.split('|',expand=True)[0]).rename(columns ={0:'category_list'}).reset_index(drop=True)\n",
    "top3_temp\n",
    "top3['category_list'] = top3_temp['category_list']\n",
    "top3"
   ]
  },
  {
   "cell_type": "markdown",
   "id": "regulated-circulation",
   "metadata": {},
   "source": [
    "- Metling the mappings dataset to explode it horizontally"
   ]
  },
  {
   "cell_type": "code",
   "execution_count": 24,
   "id": "formal-aberdeen",
   "metadata": {
    "collapsed": true
   },
   "outputs": [
    {
     "data": {
      "text/html": [
       "<div>\n",
       "<style scoped>\n",
       "    .dataframe tbody tr th:only-of-type {\n",
       "        vertical-align: middle;\n",
       "    }\n",
       "\n",
       "    .dataframe tbody tr th {\n",
       "        vertical-align: top;\n",
       "    }\n",
       "\n",
       "    .dataframe thead th {\n",
       "        text-align: right;\n",
       "    }\n",
       "</style>\n",
       "<table border=\"1\" class=\"dataframe\">\n",
       "  <thead>\n",
       "    <tr style=\"text-align: right;\">\n",
       "      <th></th>\n",
       "      <th>category_list</th>\n",
       "      <th>Automotive &amp; Sports</th>\n",
       "      <th>Blanks</th>\n",
       "      <th>Cleantech / Semiconductors</th>\n",
       "      <th>Entertainment</th>\n",
       "      <th>Health</th>\n",
       "      <th>Manufacturing</th>\n",
       "      <th>News, Search and Messaging</th>\n",
       "      <th>Others</th>\n",
       "      <th>Social, Finance, Analytics, Advertising</th>\n",
       "    </tr>\n",
       "  </thead>\n",
       "  <tbody>\n",
       "    <tr>\n",
       "      <th>0</th>\n",
       "      <td>NaN</td>\n",
       "      <td>0</td>\n",
       "      <td>1</td>\n",
       "      <td>0</td>\n",
       "      <td>0</td>\n",
       "      <td>0</td>\n",
       "      <td>0</td>\n",
       "      <td>0</td>\n",
       "      <td>0</td>\n",
       "      <td>0</td>\n",
       "    </tr>\n",
       "    <tr>\n",
       "      <th>1</th>\n",
       "      <td>3D</td>\n",
       "      <td>0</td>\n",
       "      <td>0</td>\n",
       "      <td>0</td>\n",
       "      <td>0</td>\n",
       "      <td>0</td>\n",
       "      <td>1</td>\n",
       "      <td>0</td>\n",
       "      <td>0</td>\n",
       "      <td>0</td>\n",
       "    </tr>\n",
       "    <tr>\n",
       "      <th>2</th>\n",
       "      <td>3D Printing</td>\n",
       "      <td>0</td>\n",
       "      <td>0</td>\n",
       "      <td>0</td>\n",
       "      <td>0</td>\n",
       "      <td>0</td>\n",
       "      <td>1</td>\n",
       "      <td>0</td>\n",
       "      <td>0</td>\n",
       "      <td>0</td>\n",
       "    </tr>\n",
       "    <tr>\n",
       "      <th>3</th>\n",
       "      <td>3D Technology</td>\n",
       "      <td>0</td>\n",
       "      <td>0</td>\n",
       "      <td>0</td>\n",
       "      <td>0</td>\n",
       "      <td>0</td>\n",
       "      <td>1</td>\n",
       "      <td>0</td>\n",
       "      <td>0</td>\n",
       "      <td>0</td>\n",
       "    </tr>\n",
       "    <tr>\n",
       "      <th>4</th>\n",
       "      <td>Accounting</td>\n",
       "      <td>0</td>\n",
       "      <td>0</td>\n",
       "      <td>0</td>\n",
       "      <td>0</td>\n",
       "      <td>0</td>\n",
       "      <td>0</td>\n",
       "      <td>0</td>\n",
       "      <td>0</td>\n",
       "      <td>1</td>\n",
       "    </tr>\n",
       "  </tbody>\n",
       "</table>\n",
       "</div>"
      ],
      "text/plain": [
       "   category_list  Automotive & Sports  Blanks  Cleantech / Semiconductors  \\\n",
       "0            NaN                    0       1                           0   \n",
       "1             3D                    0       0                           0   \n",
       "2    3D Printing                    0       0                           0   \n",
       "3  3D Technology                    0       0                           0   \n",
       "4     Accounting                    0       0                           0   \n",
       "\n",
       "   Entertainment  Health  Manufacturing  News, Search and Messaging  Others  \\\n",
       "0              0       0              0                           0       0   \n",
       "1              0       0              1                           0       0   \n",
       "2              0       0              1                           0       0   \n",
       "3              0       0              1                           0       0   \n",
       "4              0       0              0                           0       0   \n",
       "\n",
       "   Social, Finance, Analytics, Advertising  \n",
       "0                                        0  \n",
       "1                                        0  \n",
       "2                                        0  \n",
       "3                                        0  \n",
       "4                                        1  "
      ]
     },
     "execution_count": 24,
     "metadata": {},
     "output_type": "execute_result"
    }
   ],
   "source": [
    "mappings.head()"
   ]
  },
  {
   "cell_type": "markdown",
   "id": "passive-affair",
   "metadata": {},
   "source": [
    "- Exploding the mappings dataset horizontally using melt function of pandas"
   ]
  },
  {
   "cell_type": "code",
   "execution_count": 25,
   "id": "agricultural-replacement",
   "metadata": {
    "collapsed": true
   },
   "outputs": [
    {
     "data": {
      "text/html": [
       "<div>\n",
       "<style scoped>\n",
       "    .dataframe tbody tr th:only-of-type {\n",
       "        vertical-align: middle;\n",
       "    }\n",
       "\n",
       "    .dataframe tbody tr th {\n",
       "        vertical-align: top;\n",
       "    }\n",
       "\n",
       "    .dataframe thead th {\n",
       "        text-align: right;\n",
       "    }\n",
       "</style>\n",
       "<table border=\"1\" class=\"dataframe\">\n",
       "  <thead>\n",
       "    <tr style=\"text-align: right;\">\n",
       "      <th></th>\n",
       "      <th>category_list</th>\n",
       "      <th>main_sector</th>\n",
       "      <th>belongs</th>\n",
       "    </tr>\n",
       "  </thead>\n",
       "  <tbody>\n",
       "    <tr>\n",
       "      <th>0</th>\n",
       "      <td>NaN</td>\n",
       "      <td>Automotive &amp; Sports</td>\n",
       "      <td>0</td>\n",
       "    </tr>\n",
       "    <tr>\n",
       "      <th>1</th>\n",
       "      <td>3D</td>\n",
       "      <td>Automotive &amp; Sports</td>\n",
       "      <td>0</td>\n",
       "    </tr>\n",
       "    <tr>\n",
       "      <th>2</th>\n",
       "      <td>3D Printing</td>\n",
       "      <td>Automotive &amp; Sports</td>\n",
       "      <td>0</td>\n",
       "    </tr>\n",
       "    <tr>\n",
       "      <th>3</th>\n",
       "      <td>3D Technology</td>\n",
       "      <td>Automotive &amp; Sports</td>\n",
       "      <td>0</td>\n",
       "    </tr>\n",
       "    <tr>\n",
       "      <th>4</th>\n",
       "      <td>Accounting</td>\n",
       "      <td>Automotive &amp; Sports</td>\n",
       "      <td>0</td>\n",
       "    </tr>\n",
       "  </tbody>\n",
       "</table>\n",
       "</div>"
      ],
      "text/plain": [
       "   category_list          main_sector  belongs\n",
       "0            NaN  Automotive & Sports        0\n",
       "1             3D  Automotive & Sports        0\n",
       "2    3D Printing  Automotive & Sports        0\n",
       "3  3D Technology  Automotive & Sports        0\n",
       "4     Accounting  Automotive & Sports        0"
      ]
     },
     "execution_count": 25,
     "metadata": {},
     "output_type": "execute_result"
    }
   ],
   "source": [
    "melted =  pd.melt(mappings,id_vars=['category_list'],var_name='main_sector',value_name='belongs')\n",
    "melted.head()"
   ]
  },
  {
   "cell_type": "markdown",
   "id": "cordless-bloom",
   "metadata": {},
   "source": [
    "- Filtering the melted dataset to only select the mapping between Category & main sector where `belongs` value is 1\n"
   ]
  },
  {
   "cell_type": "code",
   "execution_count": 26,
   "id": "settled-illness",
   "metadata": {
    "collapsed": true
   },
   "outputs": [
    {
     "data": {
      "text/html": [
       "<div>\n",
       "<style scoped>\n",
       "    .dataframe tbody tr th:only-of-type {\n",
       "        vertical-align: middle;\n",
       "    }\n",
       "\n",
       "    .dataframe tbody tr th {\n",
       "        vertical-align: top;\n",
       "    }\n",
       "\n",
       "    .dataframe thead th {\n",
       "        text-align: right;\n",
       "    }\n",
       "</style>\n",
       "<table border=\"1\" class=\"dataframe\">\n",
       "  <thead>\n",
       "    <tr style=\"text-align: right;\">\n",
       "      <th></th>\n",
       "      <th>category_list</th>\n",
       "      <th>main_sector</th>\n",
       "      <th>belongs</th>\n",
       "    </tr>\n",
       "  </thead>\n",
       "  <tbody>\n",
       "    <tr>\n",
       "      <th>0</th>\n",
       "      <td>Adventure Travel</td>\n",
       "      <td>Automotive &amp; Sports</td>\n",
       "      <td>1</td>\n",
       "    </tr>\n",
       "    <tr>\n",
       "      <th>1</th>\n",
       "      <td>Aerospace</td>\n",
       "      <td>Automotive &amp; Sports</td>\n",
       "      <td>1</td>\n",
       "    </tr>\n",
       "    <tr>\n",
       "      <th>2</th>\n",
       "      <td>Auto</td>\n",
       "      <td>Automotive &amp; Sports</td>\n",
       "      <td>1</td>\n",
       "    </tr>\n",
       "    <tr>\n",
       "      <th>3</th>\n",
       "      <td>Automated Kiosk</td>\n",
       "      <td>Automotive &amp; Sports</td>\n",
       "      <td>1</td>\n",
       "    </tr>\n",
       "    <tr>\n",
       "      <th>4</th>\n",
       "      <td>Automotive</td>\n",
       "      <td>Automotive &amp; Sports</td>\n",
       "      <td>1</td>\n",
       "    </tr>\n",
       "  </tbody>\n",
       "</table>\n",
       "</div>"
      ],
      "text/plain": [
       "      category_list          main_sector  belongs\n",
       "0  Adventure Travel  Automotive & Sports        1\n",
       "1         Aerospace  Automotive & Sports        1\n",
       "2              Auto  Automotive & Sports        1\n",
       "3   Automated Kiosk  Automotive & Sports        1\n",
       "4        Automotive  Automotive & Sports        1"
      ]
     },
     "execution_count": 26,
     "metadata": {},
     "output_type": "execute_result"
    }
   ],
   "source": [
    "melted = melted.loc[melted.belongs == 1].reset_index(drop=True)\n",
    "melted.head(5)"
   ]
  },
  {
   "cell_type": "markdown",
   "id": "colored-bonus",
   "metadata": {},
   "source": [
    "- Merging the dataframe filtered for top 3 countries for funding type Venture with exploded mappings dataset"
   ]
  },
  {
   "cell_type": "code",
   "execution_count": 27,
   "id": "synthetic-boating",
   "metadata": {},
   "outputs": [
    {
     "data": {
      "text/html": [
       "<div>\n",
       "<style scoped>\n",
       "    .dataframe tbody tr th:only-of-type {\n",
       "        vertical-align: middle;\n",
       "    }\n",
       "\n",
       "    .dataframe tbody tr th {\n",
       "        vertical-align: top;\n",
       "    }\n",
       "\n",
       "    .dataframe thead th {\n",
       "        text-align: right;\n",
       "    }\n",
       "</style>\n",
       "<table border=\"1\" class=\"dataframe\">\n",
       "  <thead>\n",
       "    <tr style=\"text-align: right;\">\n",
       "      <th></th>\n",
       "      <th>permalink</th>\n",
       "      <th>name</th>\n",
       "      <th>homepage_url</th>\n",
       "      <th>comb_cat_list</th>\n",
       "      <th>status</th>\n",
       "      <th>country_code</th>\n",
       "      <th>state_code</th>\n",
       "      <th>region</th>\n",
       "      <th>city</th>\n",
       "      <th>founded_at</th>\n",
       "      <th>cname</th>\n",
       "      <th>company_permalink</th>\n",
       "      <th>funding_round_permalink</th>\n",
       "      <th>funding_round_type</th>\n",
       "      <th>funding_round_code</th>\n",
       "      <th>funded_at</th>\n",
       "      <th>raised_amount_usd</th>\n",
       "      <th>category_list</th>\n",
       "      <th>main_sector</th>\n",
       "    </tr>\n",
       "  </thead>\n",
       "  <tbody>\n",
       "    <tr>\n",
       "      <th>0</th>\n",
       "      <td>/Organization/-Fame</td>\n",
       "      <td>#fame</td>\n",
       "      <td>http://livfame.com</td>\n",
       "      <td>Media</td>\n",
       "      <td>operating</td>\n",
       "      <td>IND</td>\n",
       "      <td>16</td>\n",
       "      <td>Mumbai</td>\n",
       "      <td>Mumbai</td>\n",
       "      <td>NaN</td>\n",
       "      <td>FAME</td>\n",
       "      <td>/organization/-fame</td>\n",
       "      <td>/funding-round/9a01d05418af9f794eebff7ace91f638</td>\n",
       "      <td>venture</td>\n",
       "      <td>B</td>\n",
       "      <td>05-01-2015</td>\n",
       "      <td>10000000.0</td>\n",
       "      <td>Media</td>\n",
       "      <td>Entertainment</td>\n",
       "    </tr>\n",
       "    <tr>\n",
       "      <th>1</th>\n",
       "      <td>/Organization/90Min</td>\n",
       "      <td>90min</td>\n",
       "      <td>http://www.90min.com</td>\n",
       "      <td>Media|News|Publishing|Soccer|Sports</td>\n",
       "      <td>operating</td>\n",
       "      <td>GBR</td>\n",
       "      <td>H9</td>\n",
       "      <td>London</td>\n",
       "      <td>London</td>\n",
       "      <td>01-01-2011</td>\n",
       "      <td>90MIN</td>\n",
       "      <td>/organization/90min</td>\n",
       "      <td>/funding-round/21a2cbf6f2fb2a1c2a61e04bf930dfe6</td>\n",
       "      <td>venture</td>\n",
       "      <td>NaN</td>\n",
       "      <td>06-10-2015</td>\n",
       "      <td>15000000.0</td>\n",
       "      <td>Media</td>\n",
       "      <td>Entertainment</td>\n",
       "    </tr>\n",
       "    <tr>\n",
       "      <th>2</th>\n",
       "      <td>/Organization/90Min</td>\n",
       "      <td>90min</td>\n",
       "      <td>http://www.90min.com</td>\n",
       "      <td>Media|News|Publishing|Soccer|Sports</td>\n",
       "      <td>operating</td>\n",
       "      <td>GBR</td>\n",
       "      <td>H9</td>\n",
       "      <td>London</td>\n",
       "      <td>London</td>\n",
       "      <td>01-01-2011</td>\n",
       "      <td>90MIN</td>\n",
       "      <td>/ORGANIZATION/90MIN</td>\n",
       "      <td>/funding-round/bd626ed022f5c66574b1afe234f3c90d</td>\n",
       "      <td>venture</td>\n",
       "      <td>NaN</td>\n",
       "      <td>07-05-2013</td>\n",
       "      <td>5800000.0</td>\n",
       "      <td>Media</td>\n",
       "      <td>Entertainment</td>\n",
       "    </tr>\n",
       "    <tr>\n",
       "      <th>3</th>\n",
       "      <td>/Organization/90Min</td>\n",
       "      <td>90min</td>\n",
       "      <td>http://www.90min.com</td>\n",
       "      <td>Media|News|Publishing|Soccer|Sports</td>\n",
       "      <td>operating</td>\n",
       "      <td>GBR</td>\n",
       "      <td>H9</td>\n",
       "      <td>London</td>\n",
       "      <td>London</td>\n",
       "      <td>01-01-2011</td>\n",
       "      <td>90MIN</td>\n",
       "      <td>/organization/90min</td>\n",
       "      <td>/funding-round/fd4b15e8c97ee2ffc0acccdbe1a98810</td>\n",
       "      <td>venture</td>\n",
       "      <td>NaN</td>\n",
       "      <td>26-03-2014</td>\n",
       "      <td>18000000.0</td>\n",
       "      <td>Media</td>\n",
       "      <td>Entertainment</td>\n",
       "    </tr>\n",
       "    <tr>\n",
       "      <th>4</th>\n",
       "      <td>/Organization/All-Def-Digital</td>\n",
       "      <td>All Def Digital</td>\n",
       "      <td>http://alldefdigital.com</td>\n",
       "      <td>Media</td>\n",
       "      <td>operating</td>\n",
       "      <td>USA</td>\n",
       "      <td>CA</td>\n",
       "      <td>Los Angeles</td>\n",
       "      <td>Los Angeles</td>\n",
       "      <td>NaN</td>\n",
       "      <td>ALL-DEF-DIGITAL</td>\n",
       "      <td>/organization/all-def-digital</td>\n",
       "      <td>/funding-round/452a2342fe720285c3b92e9bd927d9ba</td>\n",
       "      <td>venture</td>\n",
       "      <td>A</td>\n",
       "      <td>06-08-2014</td>\n",
       "      <td>5000000.0</td>\n",
       "      <td>Media</td>\n",
       "      <td>Entertainment</td>\n",
       "    </tr>\n",
       "  </tbody>\n",
       "</table>\n",
       "</div>"
      ],
      "text/plain": [
       "                       permalink             name              homepage_url  \\\n",
       "0            /Organization/-Fame            #fame        http://livfame.com   \n",
       "1            /Organization/90Min            90min      http://www.90min.com   \n",
       "2            /Organization/90Min            90min      http://www.90min.com   \n",
       "3            /Organization/90Min            90min      http://www.90min.com   \n",
       "4  /Organization/All-Def-Digital  All Def Digital  http://alldefdigital.com   \n",
       "\n",
       "                         comb_cat_list     status country_code state_code  \\\n",
       "0                                Media  operating          IND         16   \n",
       "1  Media|News|Publishing|Soccer|Sports  operating          GBR         H9   \n",
       "2  Media|News|Publishing|Soccer|Sports  operating          GBR         H9   \n",
       "3  Media|News|Publishing|Soccer|Sports  operating          GBR         H9   \n",
       "4                                Media  operating          USA         CA   \n",
       "\n",
       "        region         city  founded_at            cname  \\\n",
       "0       Mumbai       Mumbai         NaN             FAME   \n",
       "1       London       London  01-01-2011            90MIN   \n",
       "2       London       London  01-01-2011            90MIN   \n",
       "3       London       London  01-01-2011            90MIN   \n",
       "4  Los Angeles  Los Angeles         NaN  ALL-DEF-DIGITAL   \n",
       "\n",
       "               company_permalink  \\\n",
       "0            /organization/-fame   \n",
       "1            /organization/90min   \n",
       "2            /ORGANIZATION/90MIN   \n",
       "3            /organization/90min   \n",
       "4  /organization/all-def-digital   \n",
       "\n",
       "                           funding_round_permalink funding_round_type  \\\n",
       "0  /funding-round/9a01d05418af9f794eebff7ace91f638            venture   \n",
       "1  /funding-round/21a2cbf6f2fb2a1c2a61e04bf930dfe6            venture   \n",
       "2  /funding-round/bd626ed022f5c66574b1afe234f3c90d            venture   \n",
       "3  /funding-round/fd4b15e8c97ee2ffc0acccdbe1a98810            venture   \n",
       "4  /funding-round/452a2342fe720285c3b92e9bd927d9ba            venture   \n",
       "\n",
       "  funding_round_code   funded_at  raised_amount_usd category_list  \\\n",
       "0                  B  05-01-2015         10000000.0         Media   \n",
       "1                NaN  06-10-2015         15000000.0         Media   \n",
       "2                NaN  07-05-2013          5800000.0         Media   \n",
       "3                NaN  26-03-2014         18000000.0         Media   \n",
       "4                  A  06-08-2014          5000000.0         Media   \n",
       "\n",
       "     main_sector  \n",
       "0  Entertainment  \n",
       "1  Entertainment  \n",
       "2  Entertainment  \n",
       "3  Entertainment  \n",
       "4  Entertainment  "
      ]
     },
     "execution_count": 27,
     "metadata": {},
     "output_type": "execute_result"
    }
   ],
   "source": [
    "top3m = pd.merge(top3, melted, on=['category_list'], how='inner')\n",
    "top3m.drop('belongs',inplace=True,axis=1)\n",
    "top3m.head()"
   ]
  },
  {
   "cell_type": "markdown",
   "id": "micro-vulnerability",
   "metadata": {},
   "source": [
    "***\n",
    "## Checkpoint 5: Sector Analysis 2"
   ]
  },
  {
   "cell_type": "markdown",
   "id": "exciting-intermediate",
   "metadata": {},
   "source": [
    "- Next, We will be find out the most heavily invested main sectors in each of the three countries (for funding type `Venture` and investments range of 5-15 M USD).\n",
    "\n",
    "- Three separate data frames D1, D2 and D3 will be created for each of the three countries containing the observations of funding type Venture falling within the 5-15 million USD range. "
   ]
  },
  {
   "cell_type": "code",
   "execution_count": 28,
   "id": "neural-creation",
   "metadata": {
    "collapsed": true
   },
   "outputs": [],
   "source": [
    "# top3m is the filtered dataset for funding type Venture with primary sector mapped to main sector from mappings dataset\n",
    "D1 = top3m[(top3m.country_code == 'USA') & (top3m.raised_amount_usd >= 5000000) & (top3m.raised_amount_usd <= 20000000)]\n",
    "D2 = top3m[(top3m.country_code == 'GBR') & (top3m.raised_amount_usd >= 5000000) & (top3m.raised_amount_usd <= 20000000)]\n",
    "D3 = top3m[(top3m.country_code == 'IND') & (top3m.raised_amount_usd >= 5000000) & (top3m.raised_amount_usd <= 20000000)]"
   ]
  },
  {
   "cell_type": "code",
   "execution_count": 29,
   "id": "dynamic-learning",
   "metadata": {
    "collapsed": true
   },
   "outputs": [
    {
     "data": {
      "text/html": [
       "<div>\n",
       "<style scoped>\n",
       "    .dataframe tbody tr th:only-of-type {\n",
       "        vertical-align: middle;\n",
       "    }\n",
       "\n",
       "    .dataframe tbody tr th {\n",
       "        vertical-align: top;\n",
       "    }\n",
       "\n",
       "    .dataframe thead th {\n",
       "        text-align: right;\n",
       "    }\n",
       "</style>\n",
       "<table border=\"1\" class=\"dataframe\">\n",
       "  <thead>\n",
       "    <tr style=\"text-align: right;\">\n",
       "      <th></th>\n",
       "      <th>country_code</th>\n",
       "      <th>main_sector</th>\n",
       "      <th>count</th>\n",
       "      <th>sum</th>\n",
       "    </tr>\n",
       "  </thead>\n",
       "  <tbody>\n",
       "    <tr>\n",
       "      <th>0</th>\n",
       "      <td>USA</td>\n",
       "      <td>Others</td>\n",
       "      <td>3335</td>\n",
       "      <td>3.349621e+10</td>\n",
       "    </tr>\n",
       "    <tr>\n",
       "      <th>1</th>\n",
       "      <td>USA</td>\n",
       "      <td>Cleantech / Semiconductors</td>\n",
       "      <td>2845</td>\n",
       "      <td>3.110918e+10</td>\n",
       "    </tr>\n",
       "    <tr>\n",
       "      <th>2</th>\n",
       "      <td>USA</td>\n",
       "      <td>Social, Finance, Analytics, Advertising</td>\n",
       "      <td>2199</td>\n",
       "      <td>2.192932e+10</td>\n",
       "    </tr>\n",
       "    <tr>\n",
       "      <th>3</th>\n",
       "      <td>USA</td>\n",
       "      <td>News, Search and Messaging</td>\n",
       "      <td>1767</td>\n",
       "      <td>1.753160e+10</td>\n",
       "    </tr>\n",
       "    <tr>\n",
       "      <th>4</th>\n",
       "      <td>USA</td>\n",
       "      <td>Health</td>\n",
       "      <td>1104</td>\n",
       "      <td>1.173732e+10</td>\n",
       "    </tr>\n",
       "    <tr>\n",
       "      <th>5</th>\n",
       "      <td>USA</td>\n",
       "      <td>Manufacturing</td>\n",
       "      <td>969</td>\n",
       "      <td>1.028869e+10</td>\n",
       "    </tr>\n",
       "    <tr>\n",
       "      <th>6</th>\n",
       "      <td>USA</td>\n",
       "      <td>Entertainment</td>\n",
       "      <td>674</td>\n",
       "      <td>6.704700e+09</td>\n",
       "    </tr>\n",
       "    <tr>\n",
       "      <th>7</th>\n",
       "      <td>USA</td>\n",
       "      <td>Automotive &amp; Sports</td>\n",
       "      <td>187</td>\n",
       "      <td>1.831076e+09</td>\n",
       "    </tr>\n",
       "    <tr>\n",
       "      <th>8</th>\n",
       "      <td>USA</td>\n",
       "      <td>Blanks</td>\n",
       "      <td>104</td>\n",
       "      <td>1.093773e+09</td>\n",
       "    </tr>\n",
       "  </tbody>\n",
       "</table>\n",
       "</div>"
      ],
      "text/plain": [
       "  country_code                              main_sector  count           sum\n",
       "0          USA                                   Others   3335  3.349621e+10\n",
       "1          USA               Cleantech / Semiconductors   2845  3.110918e+10\n",
       "2          USA  Social, Finance, Analytics, Advertising   2199  2.192932e+10\n",
       "3          USA               News, Search and Messaging   1767  1.753160e+10\n",
       "4          USA                                   Health   1104  1.173732e+10\n",
       "5          USA                            Manufacturing    969  1.028869e+10\n",
       "6          USA                            Entertainment    674  6.704700e+09\n",
       "7          USA                      Automotive & Sports    187  1.831076e+09\n",
       "8          USA                                   Blanks    104  1.093773e+09"
      ]
     },
     "execution_count": 29,
     "metadata": {},
     "output_type": "execute_result"
    }
   ],
   "source": [
    "D1.groupby(['country_code','main_sector']).raised_amount_usd.agg(['count','sum']).sort_values('count',ascending=False).reset_index()"
   ]
  },
  {
   "cell_type": "code",
   "execution_count": 30,
   "id": "mental-surfing",
   "metadata": {
    "collapsed": true
   },
   "outputs": [
    {
     "data": {
      "text/html": [
       "<div>\n",
       "<style scoped>\n",
       "    .dataframe tbody tr th:only-of-type {\n",
       "        vertical-align: middle;\n",
       "    }\n",
       "\n",
       "    .dataframe tbody tr th {\n",
       "        vertical-align: top;\n",
       "    }\n",
       "\n",
       "    .dataframe thead th {\n",
       "        text-align: right;\n",
       "    }\n",
       "</style>\n",
       "<table border=\"1\" class=\"dataframe\">\n",
       "  <thead>\n",
       "    <tr style=\"text-align: right;\">\n",
       "      <th></th>\n",
       "      <th>country_code</th>\n",
       "      <th>main_sector</th>\n",
       "      <th>count</th>\n",
       "      <th>sum</th>\n",
       "    </tr>\n",
       "  </thead>\n",
       "  <tbody>\n",
       "    <tr>\n",
       "      <th>0</th>\n",
       "      <td>GBR</td>\n",
       "      <td>Others</td>\n",
       "      <td>167</td>\n",
       "      <td>1.665625e+09</td>\n",
       "    </tr>\n",
       "    <tr>\n",
       "      <th>1</th>\n",
       "      <td>GBR</td>\n",
       "      <td>Cleantech / Semiconductors</td>\n",
       "      <td>150</td>\n",
       "      <td>1.538808e+09</td>\n",
       "    </tr>\n",
       "    <tr>\n",
       "      <th>2</th>\n",
       "      <td>GBR</td>\n",
       "      <td>Social, Finance, Analytics, Advertising</td>\n",
       "      <td>112</td>\n",
       "      <td>1.062882e+09</td>\n",
       "    </tr>\n",
       "    <tr>\n",
       "      <th>3</th>\n",
       "      <td>GBR</td>\n",
       "      <td>News, Search and Messaging</td>\n",
       "      <td>87</td>\n",
       "      <td>8.609802e+08</td>\n",
       "    </tr>\n",
       "    <tr>\n",
       "      <th>4</th>\n",
       "      <td>GBR</td>\n",
       "      <td>Entertainment</td>\n",
       "      <td>64</td>\n",
       "      <td>6.357401e+08</td>\n",
       "    </tr>\n",
       "    <tr>\n",
       "      <th>5</th>\n",
       "      <td>GBR</td>\n",
       "      <td>Manufacturing</td>\n",
       "      <td>49</td>\n",
       "      <td>4.771657e+08</td>\n",
       "    </tr>\n",
       "    <tr>\n",
       "      <th>6</th>\n",
       "      <td>GBR</td>\n",
       "      <td>Health</td>\n",
       "      <td>29</td>\n",
       "      <td>3.021275e+08</td>\n",
       "    </tr>\n",
       "    <tr>\n",
       "      <th>7</th>\n",
       "      <td>GBR</td>\n",
       "      <td>Automotive &amp; Sports</td>\n",
       "      <td>18</td>\n",
       "      <td>2.015516e+08</td>\n",
       "    </tr>\n",
       "    <tr>\n",
       "      <th>8</th>\n",
       "      <td>GBR</td>\n",
       "      <td>Blanks</td>\n",
       "      <td>8</td>\n",
       "      <td>7.776485e+07</td>\n",
       "    </tr>\n",
       "  </tbody>\n",
       "</table>\n",
       "</div>"
      ],
      "text/plain": [
       "  country_code                              main_sector  count           sum\n",
       "0          GBR                                   Others    167  1.665625e+09\n",
       "1          GBR               Cleantech / Semiconductors    150  1.538808e+09\n",
       "2          GBR  Social, Finance, Analytics, Advertising    112  1.062882e+09\n",
       "3          GBR               News, Search and Messaging     87  8.609802e+08\n",
       "4          GBR                            Entertainment     64  6.357401e+08\n",
       "5          GBR                            Manufacturing     49  4.771657e+08\n",
       "6          GBR                                   Health     29  3.021275e+08\n",
       "7          GBR                      Automotive & Sports     18  2.015516e+08\n",
       "8          GBR                                   Blanks      8  7.776485e+07"
      ]
     },
     "execution_count": 30,
     "metadata": {},
     "output_type": "execute_result"
    }
   ],
   "source": [
    "D2.groupby(['country_code','main_sector']).raised_amount_usd.agg(['count','sum']).sort_values('count',ascending=False).reset_index()"
   ]
  },
  {
   "cell_type": "code",
   "execution_count": 31,
   "id": "worth-latitude",
   "metadata": {
    "collapsed": true
   },
   "outputs": [
    {
     "data": {
      "text/html": [
       "<div>\n",
       "<style scoped>\n",
       "    .dataframe tbody tr th:only-of-type {\n",
       "        vertical-align: middle;\n",
       "    }\n",
       "\n",
       "    .dataframe tbody tr th {\n",
       "        vertical-align: top;\n",
       "    }\n",
       "\n",
       "    .dataframe thead th {\n",
       "        text-align: right;\n",
       "    }\n",
       "</style>\n",
       "<table border=\"1\" class=\"dataframe\">\n",
       "  <thead>\n",
       "    <tr style=\"text-align: right;\">\n",
       "      <th></th>\n",
       "      <th>country_code</th>\n",
       "      <th>main_sector</th>\n",
       "      <th>count</th>\n",
       "      <th>sum</th>\n",
       "    </tr>\n",
       "  </thead>\n",
       "  <tbody>\n",
       "    <tr>\n",
       "      <th>0</th>\n",
       "      <td>IND</td>\n",
       "      <td>Others</td>\n",
       "      <td>125</td>\n",
       "      <td>1.302550e+09</td>\n",
       "    </tr>\n",
       "    <tr>\n",
       "      <th>1</th>\n",
       "      <td>IND</td>\n",
       "      <td>News, Search and Messaging</td>\n",
       "      <td>61</td>\n",
       "      <td>5.919345e+08</td>\n",
       "    </tr>\n",
       "    <tr>\n",
       "      <th>2</th>\n",
       "      <td>IND</td>\n",
       "      <td>Entertainment</td>\n",
       "      <td>38</td>\n",
       "      <td>3.718300e+08</td>\n",
       "    </tr>\n",
       "    <tr>\n",
       "      <th>3</th>\n",
       "      <td>IND</td>\n",
       "      <td>Social, Finance, Analytics, Advertising</td>\n",
       "      <td>35</td>\n",
       "      <td>3.425435e+08</td>\n",
       "    </tr>\n",
       "    <tr>\n",
       "      <th>4</th>\n",
       "      <td>IND</td>\n",
       "      <td>Manufacturing</td>\n",
       "      <td>30</td>\n",
       "      <td>3.545000e+08</td>\n",
       "    </tr>\n",
       "    <tr>\n",
       "      <th>5</th>\n",
       "      <td>IND</td>\n",
       "      <td>Cleantech / Semiconductors</td>\n",
       "      <td>23</td>\n",
       "      <td>2.171800e+08</td>\n",
       "    </tr>\n",
       "    <tr>\n",
       "      <th>6</th>\n",
       "      <td>IND</td>\n",
       "      <td>Health</td>\n",
       "      <td>22</td>\n",
       "      <td>2.237400e+08</td>\n",
       "    </tr>\n",
       "    <tr>\n",
       "      <th>7</th>\n",
       "      <td>IND</td>\n",
       "      <td>Automotive &amp; Sports</td>\n",
       "      <td>17</td>\n",
       "      <td>2.129000e+08</td>\n",
       "    </tr>\n",
       "    <tr>\n",
       "      <th>8</th>\n",
       "      <td>IND</td>\n",
       "      <td>Blanks</td>\n",
       "      <td>2</td>\n",
       "      <td>2.700000e+07</td>\n",
       "    </tr>\n",
       "  </tbody>\n",
       "</table>\n",
       "</div>"
      ],
      "text/plain": [
       "  country_code                              main_sector  count           sum\n",
       "0          IND                                   Others    125  1.302550e+09\n",
       "1          IND               News, Search and Messaging     61  5.919345e+08\n",
       "2          IND                            Entertainment     38  3.718300e+08\n",
       "3          IND  Social, Finance, Analytics, Advertising     35  3.425435e+08\n",
       "4          IND                            Manufacturing     30  3.545000e+08\n",
       "5          IND               Cleantech / Semiconductors     23  2.171800e+08\n",
       "6          IND                                   Health     22  2.237400e+08\n",
       "7          IND                      Automotive & Sports     17  2.129000e+08\n",
       "8          IND                                   Blanks      2  2.700000e+07"
      ]
     },
     "execution_count": 31,
     "metadata": {},
     "output_type": "execute_result"
    }
   ],
   "source": [
    "D3.groupby(['country_code','main_sector']).raised_amount_usd.agg(['count','sum']).sort_values('count',ascending=False).reset_index()"
   ]
  },
  {
   "cell_type": "markdown",
   "id": "biological-james",
   "metadata": {},
   "source": [
    "- Counting the number of investment in each country and subsequently the top main sectors to invest in "
   ]
  },
  {
   "cell_type": "markdown",
   "id": "formed-catholic",
   "metadata": {},
   "source": [
    "***\n",
    "### Table 5.1 Data\n",
    "\n",
    "- Count of Investments for each of the country "
   ]
  },
  {
   "cell_type": "code",
   "execution_count": 32,
   "id": "french-limit",
   "metadata": {
    "collapsed": true
   },
   "outputs": [
    {
     "name": "stdout",
     "output_type": "stream",
     "text": [
      "USA :  13184\n",
      "GBR :  684\n",
      "IND :  353\n"
     ]
    }
   ],
   "source": [
    "D1.raised_amount_usd.count() # USA\n",
    "D2.raised_amount_usd.count() # GBR\n",
    "D3.raised_amount_usd.count() # IND\n",
    "print('USA : ', D1.raised_amount_usd.count())\n",
    "print('GBR : ', D2.raised_amount_usd.count())\n",
    "print('IND : ', D3.raised_amount_usd.count())"
   ]
  },
  {
   "cell_type": "markdown",
   "id": "embedded-glance",
   "metadata": {},
   "source": [
    "\n",
    "- Total Investments recieved for each Country "
   ]
  },
  {
   "cell_type": "code",
   "execution_count": 33,
   "id": "filled-snake",
   "metadata": {
    "collapsed": true
   },
   "outputs": [
    {
     "name": "stdout",
     "output_type": "stream",
     "text": [
      "USA :  135721862959.0\n",
      "GBR :  6822644700.0\n",
      "IND :  3644177552.0\n"
     ]
    }
   ],
   "source": [
    "D1.raised_amount_usd.sum()\n",
    "D2.raised_amount_usd.sum()\n",
    "D3.raised_amount_usd.sum()\n",
    "print('USA : ', D1.raised_amount_usd.sum())\n",
    "print('GBR : ', D2.raised_amount_usd.sum())\n",
    "print('IND : ', D3.raised_amount_usd.sum())"
   ]
  },
  {
   "cell_type": "markdown",
   "id": "national-calgary",
   "metadata": {},
   "source": [
    "- The Sectors with highest number of investments count for each the Country \n",
    "\n",
    "1. USA\n",
    ">a. Others = 3335 <br>\n",
    ">b. Cleantech / Semiconductors = 2845 <br>\n",
    ">c. Social, Finance, Analytics, Advertising = 2199 <br>\n",
    "\n",
    "2. GBR\n",
    ">a. Others = 167 <br>\n",
    ">b. Cleantech / Semiconductors = 150 <br>\n",
    ">c. Social, Finance, Analytics, Advertising = 112 <br>\n",
    "2. IND\n",
    ">a. Others = 125 <br>\n",
    ">b. News, Search and Messaging = 61 <br>\n",
    ">c. Entertainment = 38 <br>"
   ]
  },
  {
   "cell_type": "code",
   "execution_count": 34,
   "id": "protected-integer",
   "metadata": {
    "collapsed": true
   },
   "outputs": [
    {
     "name": "stdout",
     "output_type": "stream",
     "text": [
      "Company with highest raised amount in the Top Sector - \"Others\" for USA \n"
     ]
    },
    {
     "data": {
      "text/html": [
       "<div>\n",
       "<style scoped>\n",
       "    .dataframe tbody tr th:only-of-type {\n",
       "        vertical-align: middle;\n",
       "    }\n",
       "\n",
       "    .dataframe tbody tr th {\n",
       "        vertical-align: top;\n",
       "    }\n",
       "\n",
       "    .dataframe thead th {\n",
       "        text-align: right;\n",
       "    }\n",
       "</style>\n",
       "<table border=\"1\" class=\"dataframe\">\n",
       "  <thead>\n",
       "    <tr style=\"text-align: right;\">\n",
       "      <th></th>\n",
       "      <th>raised_amount_usd</th>\n",
       "    </tr>\n",
       "    <tr>\n",
       "      <th>cname</th>\n",
       "      <th></th>\n",
       "    </tr>\n",
       "  </thead>\n",
       "  <tbody>\n",
       "    <tr>\n",
       "      <th>EXAGRID-SYSTEMS</th>\n",
       "      <td>77717024.0</td>\n",
       "    </tr>\n",
       "  </tbody>\n",
       "</table>\n",
       "</div>"
      ],
      "text/plain": [
       "                 raised_amount_usd\n",
       "cname                             \n",
       "EXAGRID-SYSTEMS         77717024.0"
      ]
     },
     "execution_count": 34,
     "metadata": {},
     "output_type": "execute_result"
    }
   ],
   "source": [
    "print('Company with highest raised amount in the Top Sector - \"Others\" for USA ')\n",
    "D1.loc[D1.main_sector == 'Others'].groupby('cname').sum().sort_values(['raised_amount_usd'],ascending=False)[:1]"
   ]
  },
  {
   "cell_type": "code",
   "execution_count": 35,
   "id": "wrong-seminar",
   "metadata": {
    "collapsed": true
   },
   "outputs": [
    {
     "name": "stdout",
     "output_type": "stream",
     "text": [
      "Company with highest raised amount in the Top Sector - \"Others\" for GBR \n"
     ]
    },
    {
     "data": {
      "text/html": [
       "<div>\n",
       "<style scoped>\n",
       "    .dataframe tbody tr th:only-of-type {\n",
       "        vertical-align: middle;\n",
       "    }\n",
       "\n",
       "    .dataframe tbody tr th {\n",
       "        vertical-align: top;\n",
       "    }\n",
       "\n",
       "    .dataframe thead th {\n",
       "        text-align: right;\n",
       "    }\n",
       "</style>\n",
       "<table border=\"1\" class=\"dataframe\">\n",
       "  <thead>\n",
       "    <tr style=\"text-align: right;\">\n",
       "      <th></th>\n",
       "      <th>raised_amount_usd</th>\n",
       "    </tr>\n",
       "    <tr>\n",
       "      <th>cname</th>\n",
       "      <th></th>\n",
       "    </tr>\n",
       "  </thead>\n",
       "  <tbody>\n",
       "    <tr>\n",
       "      <th>PICOCHIP</th>\n",
       "      <td>64000000.0</td>\n",
       "    </tr>\n",
       "  </tbody>\n",
       "</table>\n",
       "</div>"
      ],
      "text/plain": [
       "          raised_amount_usd\n",
       "cname                      \n",
       "PICOCHIP         64000000.0"
      ]
     },
     "execution_count": 35,
     "metadata": {},
     "output_type": "execute_result"
    }
   ],
   "source": [
    "print('Company with highest raised amount in the Top Sector - \"Others\" for GBR ')\n",
    "D2[D2.main_sector == 'Others'].groupby('cname').sum().sort_values(['raised_amount_usd'],ascending=False)[:1]"
   ]
  },
  {
   "cell_type": "code",
   "execution_count": 36,
   "id": "novel-passport",
   "metadata": {
    "collapsed": true
   },
   "outputs": [
    {
     "name": "stdout",
     "output_type": "stream",
     "text": [
      "Company with highest raised amount in the Top Sector - \"Others\" for IND \n"
     ]
    },
    {
     "data": {
      "text/html": [
       "<div>\n",
       "<style scoped>\n",
       "    .dataframe tbody tr th:only-of-type {\n",
       "        vertical-align: middle;\n",
       "    }\n",
       "\n",
       "    .dataframe tbody tr th {\n",
       "        vertical-align: top;\n",
       "    }\n",
       "\n",
       "    .dataframe thead th {\n",
       "        text-align: right;\n",
       "    }\n",
       "</style>\n",
       "<table border=\"1\" class=\"dataframe\">\n",
       "  <thead>\n",
       "    <tr style=\"text-align: right;\">\n",
       "      <th></th>\n",
       "      <th>raised_amount_usd</th>\n",
       "    </tr>\n",
       "    <tr>\n",
       "      <th>cname</th>\n",
       "      <th></th>\n",
       "    </tr>\n",
       "  </thead>\n",
       "  <tbody>\n",
       "    <tr>\n",
       "      <th>FIRSTCRY-COM</th>\n",
       "      <td>39000000.0</td>\n",
       "    </tr>\n",
       "  </tbody>\n",
       "</table>\n",
       "</div>"
      ],
      "text/plain": [
       "              raised_amount_usd\n",
       "cname                          \n",
       "FIRSTCRY-COM         39000000.0"
      ]
     },
     "execution_count": 36,
     "metadata": {},
     "output_type": "execute_result"
    }
   ],
   "source": [
    "print('Company with highest raised amount in the Top Sector - \"Others\" for IND ')\n",
    "D3[D3.main_sector == 'Others'].groupby('cname').sum().sort_values(['raised_amount_usd'],ascending=False)[:1]"
   ]
  },
  {
   "cell_type": "code",
   "execution_count": 37,
   "id": "concerned-wednesday",
   "metadata": {
    "collapsed": true
   },
   "outputs": [
    {
     "name": "stdout",
     "output_type": "stream",
     "text": [
      "Company with highest raised amount in the Second Best Sector - \"Cleantech / Semiconductors\" for USA \n"
     ]
    },
    {
     "data": {
      "text/html": [
       "<div>\n",
       "<style scoped>\n",
       "    .dataframe tbody tr th:only-of-type {\n",
       "        vertical-align: middle;\n",
       "    }\n",
       "\n",
       "    .dataframe tbody tr th {\n",
       "        vertical-align: top;\n",
       "    }\n",
       "\n",
       "    .dataframe thead th {\n",
       "        text-align: right;\n",
       "    }\n",
       "</style>\n",
       "<table border=\"1\" class=\"dataframe\">\n",
       "  <thead>\n",
       "    <tr style=\"text-align: right;\">\n",
       "      <th></th>\n",
       "      <th>raised_amount_usd</th>\n",
       "    </tr>\n",
       "    <tr>\n",
       "      <th>cname</th>\n",
       "      <th></th>\n",
       "    </tr>\n",
       "  </thead>\n",
       "  <tbody>\n",
       "    <tr>\n",
       "      <th>GAINSPAN</th>\n",
       "      <td>113188900.0</td>\n",
       "    </tr>\n",
       "  </tbody>\n",
       "</table>\n",
       "</div>"
      ],
      "text/plain": [
       "          raised_amount_usd\n",
       "cname                      \n",
       "GAINSPAN        113188900.0"
      ]
     },
     "execution_count": 37,
     "metadata": {},
     "output_type": "execute_result"
    }
   ],
   "source": [
    "print('Company with highest raised amount in the Second Best Sector - \"Cleantech / Semiconductors\" for USA ')\n",
    "D1[D1.main_sector == 'Cleantech / Semiconductors'].groupby('cname').sum().sort_values(['raised_amount_usd'],ascending=False)[:1]"
   ]
  },
  {
   "cell_type": "code",
   "execution_count": 38,
   "id": "modern-opening",
   "metadata": {
    "collapsed": true
   },
   "outputs": [
    {
     "name": "stdout",
     "output_type": "stream",
     "text": [
      "Company with highest raised amount in the Second Best Sector - \"Cleantech / Semiconductors\" for GBR \n"
     ]
    },
    {
     "data": {
      "text/html": [
       "<div>\n",
       "<style scoped>\n",
       "    .dataframe tbody tr th:only-of-type {\n",
       "        vertical-align: middle;\n",
       "    }\n",
       "\n",
       "    .dataframe tbody tr th {\n",
       "        vertical-align: top;\n",
       "    }\n",
       "\n",
       "    .dataframe thead th {\n",
       "        text-align: right;\n",
       "    }\n",
       "</style>\n",
       "<table border=\"1\" class=\"dataframe\">\n",
       "  <thead>\n",
       "    <tr style=\"text-align: right;\">\n",
       "      <th></th>\n",
       "      <th>raised_amount_usd</th>\n",
       "    </tr>\n",
       "    <tr>\n",
       "      <th>cname</th>\n",
       "      <th></th>\n",
       "    </tr>\n",
       "  </thead>\n",
       "  <tbody>\n",
       "    <tr>\n",
       "      <th>EUSA-PHARMA</th>\n",
       "      <td>54200000.0</td>\n",
       "    </tr>\n",
       "  </tbody>\n",
       "</table>\n",
       "</div>"
      ],
      "text/plain": [
       "             raised_amount_usd\n",
       "cname                         \n",
       "EUSA-PHARMA         54200000.0"
      ]
     },
     "execution_count": 38,
     "metadata": {},
     "output_type": "execute_result"
    }
   ],
   "source": [
    "print('Company with highest raised amount in the Second Best Sector - \"Cleantech / Semiconductors\" for GBR ')\n",
    "D2[D2.main_sector == 'Cleantech / Semiconductors'].groupby('cname').sum().sort_values(['raised_amount_usd'],ascending=False)[:1]"
   ]
  },
  {
   "cell_type": "code",
   "execution_count": 39,
   "id": "accessible-massage",
   "metadata": {
    "collapsed": true
   },
   "outputs": [
    {
     "name": "stdout",
     "output_type": "stream",
     "text": [
      "Company with highest raised amount in the Second Best Sector - \"News, Search and Messaging\" for IND \n"
     ]
    },
    {
     "data": {
      "text/html": [
       "<div>\n",
       "<style scoped>\n",
       "    .dataframe tbody tr th:only-of-type {\n",
       "        vertical-align: middle;\n",
       "    }\n",
       "\n",
       "    .dataframe tbody tr th {\n",
       "        vertical-align: top;\n",
       "    }\n",
       "\n",
       "    .dataframe thead th {\n",
       "        text-align: right;\n",
       "    }\n",
       "</style>\n",
       "<table border=\"1\" class=\"dataframe\">\n",
       "  <thead>\n",
       "    <tr style=\"text-align: right;\">\n",
       "      <th></th>\n",
       "      <th>raised_amount_usd</th>\n",
       "    </tr>\n",
       "    <tr>\n",
       "      <th>cname</th>\n",
       "      <th></th>\n",
       "    </tr>\n",
       "  </thead>\n",
       "  <tbody>\n",
       "    <tr>\n",
       "      <th>GUPSHUP-TECHNOLOGY-INDIA-PVT-LTD</th>\n",
       "      <td>33000000.0</td>\n",
       "    </tr>\n",
       "  </tbody>\n",
       "</table>\n",
       "</div>"
      ],
      "text/plain": [
       "                                  raised_amount_usd\n",
       "cname                                              \n",
       "GUPSHUP-TECHNOLOGY-INDIA-PVT-LTD         33000000.0"
      ]
     },
     "execution_count": 39,
     "metadata": {},
     "output_type": "execute_result"
    }
   ],
   "source": [
    "print('Company with highest raised amount in the Second Best Sector - \"News, Search and Messaging\" for IND ')\n",
    "D3[D3.main_sector == 'News, Search and Messaging'].groupby('cname').sum().sort_values(['raised_amount_usd'],ascending=False)[:1]"
   ]
  },
  {
   "cell_type": "markdown",
   "id": "three-devon",
   "metadata": {},
   "source": [
    "***\n",
    "## Checkpoint 6: Plots\n",
    "\n",
    "1. Plot showing the Median amount of investment in each funding type. It should make it clear that a Venture funding type is best suited for Spark Funds.   "
   ]
  },
  {
   "cell_type": "code",
   "execution_count": 40,
   "id": "fallen-invalid",
   "metadata": {
    "collapsed": true
   },
   "outputs": [
    {
     "data": {
      "text/plain": [
       "array(['venture', 'seed', 'private_equity', 'angel'], dtype=object)"
      ]
     },
     "execution_count": 40,
     "metadata": {},
     "output_type": "execute_result"
    }
   ],
   "source": [
    "# Filtering the master_frame for four funding type - Seed, Angel, Venture and PE \n",
    "df = master_frame[master_frame.funding_round_type.isin(['seed','angel','venture','private_equity'])]\n",
    "df.funding_round_type.unique()"
   ]
  },
  {
   "cell_type": "code",
   "execution_count": 41,
   "id": "suitable-microphone",
   "metadata": {},
   "outputs": [
    {
     "data": {
      "image/png": "[encoded data removed]",
      "text/plain": [
       "<Figure size 864x576 with 1 Axes>"
      ]
     },
     "metadata": {},
     "output_type": "display_data"
    }
   ],
   "source": [
    "# setting the dimensions of the plot\n",
    "fig, ax = plt.subplots(figsize=(12, 8))\n",
    "sns.set_theme(style=\"whitegrid\")\n",
    "sns.boxplot(x='funding_round_type',y='raised_amount_usd',data=df[(df.raised_amount_usd <= 100000000)],showfliers = False,ax=ax)\n",
    "plt.show()"
   ]
  },
  {
   "cell_type": "markdown",
   "id": "incorrect-advertiser",
   "metadata": {},
   "source": [
    "- Clearly 75% of the Investments in **`Venture`** are upto 15 million USD while for Private Equity, Although median is at around 20 million the range is is very high and reaching up to 100 million when the outliers are excluded. \n",
    "- Thus Venture is the most suitable Funding type for Spark Funds given that the Amount company wants to spend is between 5 million to 15 million USD"
   ]
  },
  {
   "cell_type": "markdown",
   "id": "possible-validation",
   "metadata": {},
   "source": [
    "***\n",
    "\n",
    "2.  The Plot showing the top 9 countries against the total amount of investments of funding type `Venture` . This should make the top 3 countries (Country 1, Country 2, and Country 3) very clear."
   ]
  },
  {
   "cell_type": "code",
   "execution_count": 42,
   "id": "alike-elements",
   "metadata": {
    "collapsed": true
   },
   "outputs": [
    {
     "data": {
      "image/png": "[encoded data removed]",
      "text/plain": [
       "<Figure size 864x576 with 1 Axes>"
      ]
     },
     "metadata": {},
     "output_type": "display_data"
    }
   ],
   "source": [
    "fig, ax = plt.subplots(figsize=(12, 8))\n",
    "sns.set_theme(style=\"darkgrid\")\n",
    "df = master_frame.loc[(master_frame.funding_round_type == 'venture')]\n",
    "df = df.groupby('country_code').sum().sort_values(['raised_amount_usd'],ascending=False).reset_index()[:5]\n",
    "sns.barplot(x=df.country_code, y=df.raised_amount_usd, data=df)\n",
    "plt.xlabel('Country')\n",
    "plt.ylabel('Net Investments--Billion USD')\n",
    "plt.title('Top 5 countries with highest Raised amount for Funding Type - Venture')\n",
    "plt.show()"
   ]
  },
  {
   "cell_type": "markdown",
   "id": "unavailable-understanding",
   "metadata": {},
   "source": [
    "- USA, CHN, GBR, IND and CAN are the top countries with the highest raised amount USD for funding type Venture. Out of these since CHN is not an English speaking country, We have the list of **USA, GBR and IND** as the top 3 country to invest in. \n",
    "\n",
    "<br>\n",
    "3. The plot showing the number of investments in the top 3 sectors of the top 3 countries on one chart for Venture investment type. This plot should clearly display the top 3 sectors each in USA, GBR, and IND.\n"
   ]
  },
  {
   "cell_type": "code",
   "execution_count": 43,
   "id": "grand-wheel",
   "metadata": {
    "collapsed": true
   },
   "outputs": [
    {
     "data": {
      "text/html": [
       "<div>\n",
       "<style scoped>\n",
       "    .dataframe tbody tr th:only-of-type {\n",
       "        vertical-align: middle;\n",
       "    }\n",
       "\n",
       "    .dataframe tbody tr th {\n",
       "        vertical-align: top;\n",
       "    }\n",
       "\n",
       "    .dataframe thead th {\n",
       "        text-align: right;\n",
       "    }\n",
       "</style>\n",
       "<table border=\"1\" class=\"dataframe\">\n",
       "  <thead>\n",
       "    <tr style=\"text-align: right;\">\n",
       "      <th></th>\n",
       "      <th>permalink</th>\n",
       "      <th>name</th>\n",
       "      <th>homepage_url</th>\n",
       "      <th>comb_cat_list</th>\n",
       "      <th>status</th>\n",
       "      <th>country_code</th>\n",
       "      <th>state_code</th>\n",
       "      <th>region</th>\n",
       "      <th>city</th>\n",
       "      <th>founded_at</th>\n",
       "      <th>cname</th>\n",
       "      <th>company_permalink</th>\n",
       "      <th>funding_round_permalink</th>\n",
       "      <th>funding_round_type</th>\n",
       "      <th>funding_round_code</th>\n",
       "      <th>funded_at</th>\n",
       "      <th>raised_amount_usd</th>\n",
       "      <th>category_list</th>\n",
       "      <th>main_sector</th>\n",
       "    </tr>\n",
       "  </thead>\n",
       "  <tbody>\n",
       "    <tr>\n",
       "      <th>0</th>\n",
       "      <td>/Organization/-Fame</td>\n",
       "      <td>#fame</td>\n",
       "      <td>http://livfame.com</td>\n",
       "      <td>Media</td>\n",
       "      <td>operating</td>\n",
       "      <td>IND</td>\n",
       "      <td>16</td>\n",
       "      <td>Mumbai</td>\n",
       "      <td>Mumbai</td>\n",
       "      <td>NaN</td>\n",
       "      <td>FAME</td>\n",
       "      <td>/organization/-fame</td>\n",
       "      <td>/funding-round/9a01d05418af9f794eebff7ace91f638</td>\n",
       "      <td>venture</td>\n",
       "      <td>B</td>\n",
       "      <td>05-01-2015</td>\n",
       "      <td>10000000.0</td>\n",
       "      <td>Media</td>\n",
       "      <td>Entertainment</td>\n",
       "    </tr>\n",
       "    <tr>\n",
       "      <th>1</th>\n",
       "      <td>/Organization/90Min</td>\n",
       "      <td>90min</td>\n",
       "      <td>http://www.90min.com</td>\n",
       "      <td>Media|News|Publishing|Soccer|Sports</td>\n",
       "      <td>operating</td>\n",
       "      <td>GBR</td>\n",
       "      <td>H9</td>\n",
       "      <td>London</td>\n",
       "      <td>London</td>\n",
       "      <td>01-01-2011</td>\n",
       "      <td>90MIN</td>\n",
       "      <td>/organization/90min</td>\n",
       "      <td>/funding-round/21a2cbf6f2fb2a1c2a61e04bf930dfe6</td>\n",
       "      <td>venture</td>\n",
       "      <td>NaN</td>\n",
       "      <td>06-10-2015</td>\n",
       "      <td>15000000.0</td>\n",
       "      <td>Media</td>\n",
       "      <td>Entertainment</td>\n",
       "    </tr>\n",
       "    <tr>\n",
       "      <th>2</th>\n",
       "      <td>/Organization/90Min</td>\n",
       "      <td>90min</td>\n",
       "      <td>http://www.90min.com</td>\n",
       "      <td>Media|News|Publishing|Soccer|Sports</td>\n",
       "      <td>operating</td>\n",
       "      <td>GBR</td>\n",
       "      <td>H9</td>\n",
       "      <td>London</td>\n",
       "      <td>London</td>\n",
       "      <td>01-01-2011</td>\n",
       "      <td>90MIN</td>\n",
       "      <td>/organization/90min</td>\n",
       "      <td>/funding-round/fd4b15e8c97ee2ffc0acccdbe1a98810</td>\n",
       "      <td>venture</td>\n",
       "      <td>NaN</td>\n",
       "      <td>26-03-2014</td>\n",
       "      <td>18000000.0</td>\n",
       "      <td>Media</td>\n",
       "      <td>Entertainment</td>\n",
       "    </tr>\n",
       "    <tr>\n",
       "      <th>3</th>\n",
       "      <td>/Organization/All-Def-Digital</td>\n",
       "      <td>All Def Digital</td>\n",
       "      <td>http://alldefdigital.com</td>\n",
       "      <td>Media</td>\n",
       "      <td>operating</td>\n",
       "      <td>USA</td>\n",
       "      <td>CA</td>\n",
       "      <td>Los Angeles</td>\n",
       "      <td>Los Angeles</td>\n",
       "      <td>NaN</td>\n",
       "      <td>ALL-DEF-DIGITAL</td>\n",
       "      <td>/organization/all-def-digital</td>\n",
       "      <td>/funding-round/452a2342fe720285c3b92e9bd927d9ba</td>\n",
       "      <td>venture</td>\n",
       "      <td>A</td>\n",
       "      <td>06-08-2014</td>\n",
       "      <td>5000000.0</td>\n",
       "      <td>Media</td>\n",
       "      <td>Entertainment</td>\n",
       "    </tr>\n",
       "    <tr>\n",
       "      <th>4</th>\n",
       "      <td>/Organization/Newscorporation</td>\n",
       "      <td>News Corp</td>\n",
       "      <td>http://www.newscorp.com</td>\n",
       "      <td>Media|News|Publishing</td>\n",
       "      <td>ipo</td>\n",
       "      <td>USA</td>\n",
       "      <td>NY</td>\n",
       "      <td>New York City</td>\n",
       "      <td>New York</td>\n",
       "      <td>01-01-2013</td>\n",
       "      <td>NEWSCORPORATION</td>\n",
       "      <td>/organization/newscorporation</td>\n",
       "      <td>/funding-round/8f6d7c4592e43e91e8688ba342bffcb7</td>\n",
       "      <td>venture</td>\n",
       "      <td>NaN</td>\n",
       "      <td>08-01-2010</td>\n",
       "      <td>12500000.0</td>\n",
       "      <td>Media</td>\n",
       "      <td>Entertainment</td>\n",
       "    </tr>\n",
       "  </tbody>\n",
       "</table>\n",
       "</div>"
      ],
      "text/plain": [
       "                       permalink             name              homepage_url  \\\n",
       "0            /Organization/-Fame            #fame        http://livfame.com   \n",
       "1            /Organization/90Min            90min      http://www.90min.com   \n",
       "2            /Organization/90Min            90min      http://www.90min.com   \n",
       "3  /Organization/All-Def-Digital  All Def Digital  http://alldefdigital.com   \n",
       "4  /Organization/Newscorporation        News Corp   http://www.newscorp.com   \n",
       "\n",
       "                         comb_cat_list     status country_code state_code  \\\n",
       "0                                Media  operating          IND         16   \n",
       "1  Media|News|Publishing|Soccer|Sports  operating          GBR         H9   \n",
       "2  Media|News|Publishing|Soccer|Sports  operating          GBR         H9   \n",
       "3                                Media  operating          USA         CA   \n",
       "4                Media|News|Publishing        ipo          USA         NY   \n",
       "\n",
       "          region         city  founded_at            cname  \\\n",
       "0         Mumbai       Mumbai         NaN             FAME   \n",
       "1         London       London  01-01-2011            90MIN   \n",
       "2         London       London  01-01-2011            90MIN   \n",
       "3    Los Angeles  Los Angeles         NaN  ALL-DEF-DIGITAL   \n",
       "4  New York City     New York  01-01-2013  NEWSCORPORATION   \n",
       "\n",
       "               company_permalink  \\\n",
       "0            /organization/-fame   \n",
       "1            /organization/90min   \n",
       "2            /organization/90min   \n",
       "3  /organization/all-def-digital   \n",
       "4  /organization/newscorporation   \n",
       "\n",
       "                           funding_round_permalink funding_round_type  \\\n",
       "0  /funding-round/9a01d05418af9f794eebff7ace91f638            venture   \n",
       "1  /funding-round/21a2cbf6f2fb2a1c2a61e04bf930dfe6            venture   \n",
       "2  /funding-round/fd4b15e8c97ee2ffc0acccdbe1a98810            venture   \n",
       "3  /funding-round/452a2342fe720285c3b92e9bd927d9ba            venture   \n",
       "4  /funding-round/8f6d7c4592e43e91e8688ba342bffcb7            venture   \n",
       "\n",
       "  funding_round_code   funded_at  raised_amount_usd category_list  \\\n",
       "0                  B  05-01-2015         10000000.0         Media   \n",
       "1                NaN  06-10-2015         15000000.0         Media   \n",
       "2                NaN  26-03-2014         18000000.0         Media   \n",
       "3                  A  06-08-2014          5000000.0         Media   \n",
       "4                NaN  08-01-2010         12500000.0         Media   \n",
       "\n",
       "     main_sector  \n",
       "0  Entertainment  \n",
       "1  Entertainment  \n",
       "2  Entertainment  \n",
       "3  Entertainment  \n",
       "4  Entertainment  "
      ]
     },
     "execution_count": 43,
     "metadata": {},
     "output_type": "execute_result"
    }
   ],
   "source": [
    "# We will use the top3m dataframe created above after merging of mappings dataset\n",
    "# Now that we are only interested in the Investment Range between 5 and 20 million Dollars, We will filter our dataset accordingly\n",
    "\n",
    "df = top3m.loc[(master_frame.funding_round_type == 'venture') & (top3m.raised_amount_usd >= 5000000) & (top3m.raised_amount_usd <= 20000000)].reset_index(drop=True)\n",
    "df.head()"
   ]
  },
  {
   "cell_type": "code",
   "execution_count": 44,
   "id": "final-disorder",
   "metadata": {
    "collapsed": true
   },
   "outputs": [
    {
     "data": {
      "text/html": [
       "<div>\n",
       "<style scoped>\n",
       "    .dataframe tbody tr th:only-of-type {\n",
       "        vertical-align: middle;\n",
       "    }\n",
       "\n",
       "    .dataframe tbody tr th {\n",
       "        vertical-align: top;\n",
       "    }\n",
       "\n",
       "    .dataframe thead th {\n",
       "        text-align: right;\n",
       "    }\n",
       "</style>\n",
       "<table border=\"1\" class=\"dataframe\">\n",
       "  <thead>\n",
       "    <tr style=\"text-align: right;\">\n",
       "      <th></th>\n",
       "      <th>country_code</th>\n",
       "      <th>main_sector</th>\n",
       "      <th>count</th>\n",
       "      <th>sum</th>\n",
       "    </tr>\n",
       "  </thead>\n",
       "  <tbody>\n",
       "    <tr>\n",
       "      <th>0</th>\n",
       "      <td>GBR</td>\n",
       "      <td>Automotive &amp; Sports</td>\n",
       "      <td>10</td>\n",
       "      <td>118897030.0</td>\n",
       "    </tr>\n",
       "    <tr>\n",
       "      <th>1</th>\n",
       "      <td>GBR</td>\n",
       "      <td>Blanks</td>\n",
       "      <td>3</td>\n",
       "      <td>26655679.0</td>\n",
       "    </tr>\n",
       "    <tr>\n",
       "      <th>2</th>\n",
       "      <td>GBR</td>\n",
       "      <td>Cleantech / Semiconductors</td>\n",
       "      <td>68</td>\n",
       "      <td>757968992.0</td>\n",
       "    </tr>\n",
       "    <tr>\n",
       "      <th>3</th>\n",
       "      <td>GBR</td>\n",
       "      <td>Entertainment</td>\n",
       "      <td>30</td>\n",
       "      <td>292953877.0</td>\n",
       "    </tr>\n",
       "    <tr>\n",
       "      <th>4</th>\n",
       "      <td>GBR</td>\n",
       "      <td>Health</td>\n",
       "      <td>15</td>\n",
       "      <td>163362118.0</td>\n",
       "    </tr>\n",
       "  </tbody>\n",
       "</table>\n",
       "</div>"
      ],
      "text/plain": [
       "  country_code                 main_sector  count          sum\n",
       "0          GBR         Automotive & Sports     10  118897030.0\n",
       "1          GBR                      Blanks      3   26655679.0\n",
       "2          GBR  Cleantech / Semiconductors     68  757968992.0\n",
       "3          GBR               Entertainment     30  292953877.0\n",
       "4          GBR                      Health     15  163362118.0"
      ]
     },
     "execution_count": 44,
     "metadata": {},
     "output_type": "execute_result"
    }
   ],
   "source": [
    "# Grouping the filtered dataset by country code and Main Sector with aggregation methods applied \n",
    "df = df.groupby(['country_code','main_sector']).raised_amount_usd.agg(['count','sum']).reset_index()\n",
    "df.head()"
   ]
  },
  {
   "cell_type": "markdown",
   "id": "generous-produce",
   "metadata": {},
   "source": [
    "- Below Plot shows all three countries with count of investment on same chart with each sector representing different hue\n",
    "<br> Although, The above Plot is very much skewed by values of USA country code, We will try to create plot of each of the country seperately to clearly show the sectors with highest count of investments "
   ]
  },
  {
   "cell_type": "code",
   "execution_count": 45,
   "id": "dangerous-conspiracy",
   "metadata": {},
   "outputs": [
    {
     "data": {
      "image/png": "[encoded data removed]",
      "text/plain": [
       "<Figure size 720x432 with 1 Axes>"
      ]
     },
     "metadata": {},
     "output_type": "display_data"
    }
   ],
   "source": [
    "fig, ax = plt.subplots(figsize=(10, 6))\n",
    "sns.set_theme(style=\"darkgrid\")\n",
    "sns.barplot(x=df.country_code, y='count', hue=df.main_sector, data=df, estimator= lambda x: np.quantile(x, 0.5))\n",
    "plt.show()"
   ]
  },
  {
   "cell_type": "code",
   "execution_count": 46,
   "id": "genuine-edgar",
   "metadata": {
    "collapsed": true
   },
   "outputs": [],
   "source": [
    "# Seperate dataframes for each country code with aggregated values of count and sum after grouping by Country and Sector\n",
    "# Each dataframe is sorted in descending order of count and only contains the top3 entries.\n",
    "\n",
    "USA = D1.groupby(['country_code','main_sector']).raised_amount_usd.agg(['count','sum']).sort_values('count',ascending=False).reset_index()[:3]\n",
    "GBR = D2.groupby(['country_code','main_sector']).raised_amount_usd.agg(['count','sum']).sort_values('count',ascending=False).reset_index()[:3]\n",
    "IND = D3.groupby(['country_code','main_sector']).raised_amount_usd.agg(['count','sum']).sort_values('count',ascending=False).reset_index()[:3]"
   ]
  },
  {
   "cell_type": "code",
   "execution_count": 47,
   "id": "faced-advance",
   "metadata": {},
   "outputs": [
    {
     "data": {
      "image/png": "[encoded data removed]",
      "text/plain": [
       "<Figure size 1080x576 with 3 Axes>"
      ]
     },
     "metadata": {},
     "output_type": "display_data"
    }
   ],
   "source": [
    "# Plotting subplot for each country using sns \n",
    "\n",
    "fig, ax = plt.subplots(1,3,figsize=(15, 8))\n",
    "sns.set_theme(style=\"darkgrid\")\n",
    "fig.suptitle('Count of Investment in top Sectors of top 3 Countries ')\n",
    "ax[0].set_title('USA')\n",
    "ax[1].set_title('GBR')\n",
    "ax[2].set_title('IND')\n",
    "sns.barplot(ax=ax[0], x=USA.country_code, y=USA['count'], hue=USA.main_sector, data=USA, estimator= lambda x: np.quantile(x, 0.5))\n",
    "sns.barplot(ax=ax[1], x=GBR.country_code, y=GBR['count'], hue=GBR.main_sector, data=GBR, estimator= lambda x: np.quantile(x, 0.5))\n",
    "sns.barplot(ax=ax[2], x=IND.country_code, y=IND['count'], hue=IND.main_sector, data=IND, estimator= lambda x: np.quantile(x, 0.5))\n",
    "plt.show()"
   ]
  },
  {
   "cell_type": "markdown",
   "id": "daily-juice",
   "metadata": {},
   "source": [
    "***\n",
    "- There is another way of clearing providing broader picture of how each sector is performing with a country. This dataset can also be filtered to only have top 3 entries but it is not done that way to avoid redundancy  "
   ]
  },
  {
   "cell_type": "code",
   "execution_count": 48,
   "id": "finite-trader",
   "metadata": {
    "collapsed": true
   },
   "outputs": [],
   "source": [
    "# Again creating seperate dataframe for each country with grouping sector and country code followed by sorting \n",
    "# The top3m dataframe is used again which was created above after merging master_frame with melted mappings dataset\n",
    "\n",
    "df = top3m.loc[(master_frame.funding_round_type == 'venture') & (top3m.raised_amount_usd >= 5000000) & (top3m.raised_amount_usd <= 20000000)].reset_index(drop=True)\n",
    "usa = D1.groupby(['country_code','main_sector']).raised_amount_usd.agg(['count','sum']).sort_values('count',ascending=False)\n",
    "gbr = D2.groupby(['country_code','main_sector']).raised_amount_usd.agg(['count','sum']).sort_values('count',ascending=False)\n",
    "ind = D3.groupby(['country_code','main_sector']).raised_amount_usd.agg(['count','sum']).sort_values('count',ascending=False)"
   ]
  },
  {
   "cell_type": "code",
   "execution_count": 51,
   "id": "molecular-harassment",
   "metadata": {},
   "outputs": [
    {
     "data": {
      "image/png": "[encoded data removed]",
      "text/plain": [
       "<Figure size 1080x288 with 3 Axes>"
      ]
     },
     "metadata": {},
     "output_type": "display_data"
    }
   ],
   "source": [
    "# Plotting subplot for each country using using matplotlib \n",
    "\n",
    "fig, ax = plt.subplots(1,3,figsize=(15, 4))\n",
    "sns.set_theme(style=\"darkgrid\")\n",
    "fig.suptitle('Count of Investment in top Sectors of top 3 Countries ')\n",
    "ax[0].set_title('USA')\n",
    "ax[1].set_title('GBR')\n",
    "ax[2].set_title('IND')\n",
    "usa['count'].plot.bar(ax=ax[0])\n",
    "gbr['count'].plot.bar(ax=ax[1])\n",
    "ind['count'].plot.bar(ax=ax[2])\n",
    "plt.show()"
   ]
  },
  {
   "cell_type": "markdown",
   "id": "standing-campaign",
   "metadata": {},
   "source": [
    "**Signature**\n",
    "\n",
    "<br>\n",
    "Abhishek Singh <br>\n",
    "Date - 27 April 2021 <br>\n",
    "\n",
    "***\n",
    "\n",
    "# End of Project"
   ]
  },
  {
   "cell_type": "code",
   "execution_count": null,
   "id": "according-absorption",
   "metadata": {
    "collapsed": true
   },
   "outputs": [],
   "source": []
  }
 ],
 "metadata": {
  "kernelspec": {
   "display_name": "Python 3",
   "language": "python",
   "name": "python3"
  },
  "language_info": {
   "codemirror_mode": {
    "name": "ipython",
    "version": 3
   },
   "file_extension": ".py",
   "mimetype": "text/x-python",
   "name": "python",
   "nbconvert_exporter": "python",
   "pygments_lexer": "ipython3",
   "version": "3.8.8"
  }
 },
 "nbformat": 4,
 "nbformat_minor": 5
}
